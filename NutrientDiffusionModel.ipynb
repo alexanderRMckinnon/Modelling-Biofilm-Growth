{
 "cells": [
  {
   "cell_type": "code",
   "execution_count": null,
   "id": "8073a747",
   "metadata": {},
   "outputs": [],
   "source": []
  },
  {
   "cell_type": "markdown",
   "id": "38871c5a",
   "metadata": {},
   "source": [
    "For this first iteration of the model I will follow this [guide](https://ipython-books.github.io/124-simulating-a-partial-differential-equation-reaction-diffusion-systems-and-turing-patterns/) using my own diffusion model:\n",
    "\n",
    "$$\\frac{\\partial C(x,t)}{\\partial t} = D \\nabla ^2 C (x,t)$$\n",
    "\n",
    "Where $\\nabla ^2$ is divergence of the gradient of $C$, also known as the laplacian, which we use the following approximation for:\n",
    "$$\\\n",
    "\n",
    "We will also assume initial conditions of $C(x,t=0) = 0 \\ [0 > x \\geq x_{max}], \\quad C(x=0,t=0) = C_{max}$"
   ]
  },
  {
   "cell_type": "code",
   "execution_count": 3,
   "id": "9c492334",
   "metadata": {},
   "outputs": [
    {
     "data": {
      "text/html": [
       "\n",
       "    <div class=\"bk-root\">\n",
       "        <a href=\"https://bokeh.org\" target=\"_blank\" class=\"bk-logo bk-logo-small bk-logo-notebook\"></a>\n",
       "        <span id=\"1002\">Loading BokehJS ...</span>\n",
       "    </div>"
      ]
     },
     "metadata": {},
     "output_type": "display_data"
    },
    {
     "data": {
      "application/javascript": [
       "\n",
       "(function(root) {\n",
       "  function now() {\n",
       "    return new Date();\n",
       "  }\n",
       "\n",
       "  var force = true;\n",
       "\n",
       "  if (typeof root._bokeh_onload_callbacks === \"undefined\" || force === true) {\n",
       "    root._bokeh_onload_callbacks = [];\n",
       "    root._bokeh_is_loading = undefined;\n",
       "  }\n",
       "\n",
       "  var JS_MIME_TYPE = 'application/javascript';\n",
       "  var HTML_MIME_TYPE = 'text/html';\n",
       "  var EXEC_MIME_TYPE = 'application/vnd.bokehjs_exec.v0+json';\n",
       "  var CLASS_NAME = 'output_bokeh rendered_html';\n",
       "\n",
       "  /**\n",
       "   * Render data to the DOM node\n",
       "   */\n",
       "  function render(props, node) {\n",
       "    var script = document.createElement(\"script\");\n",
       "    node.appendChild(script);\n",
       "  }\n",
       "\n",
       "  /**\n",
       "   * Handle when an output is cleared or removed\n",
       "   */\n",
       "  function handleClearOutput(event, handle) {\n",
       "    var cell = handle.cell;\n",
       "\n",
       "    var id = cell.output_area._bokeh_element_id;\n",
       "    var server_id = cell.output_area._bokeh_server_id;\n",
       "    // Clean up Bokeh references\n",
       "    if (id != null && id in Bokeh.index) {\n",
       "      Bokeh.index[id].model.document.clear();\n",
       "      delete Bokeh.index[id];\n",
       "    }\n",
       "\n",
       "    if (server_id !== undefined) {\n",
       "      // Clean up Bokeh references\n",
       "      var cmd = \"from bokeh.io.state import curstate; print(curstate().uuid_to_server['\" + server_id + \"'].get_sessions()[0].document.roots[0]._id)\";\n",
       "      cell.notebook.kernel.execute(cmd, {\n",
       "        iopub: {\n",
       "          output: function(msg) {\n",
       "            var id = msg.content.text.trim();\n",
       "            if (id in Bokeh.index) {\n",
       "              Bokeh.index[id].model.document.clear();\n",
       "              delete Bokeh.index[id];\n",
       "            }\n",
       "          }\n",
       "        }\n",
       "      });\n",
       "      // Destroy server and session\n",
       "      var cmd = \"import bokeh.io.notebook as ion; ion.destroy_server('\" + server_id + \"')\";\n",
       "      cell.notebook.kernel.execute(cmd);\n",
       "    }\n",
       "  }\n",
       "\n",
       "  /**\n",
       "   * Handle when a new output is added\n",
       "   */\n",
       "  function handleAddOutput(event, handle) {\n",
       "    var output_area = handle.output_area;\n",
       "    var output = handle.output;\n",
       "\n",
       "    // limit handleAddOutput to display_data with EXEC_MIME_TYPE content only\n",
       "    if ((output.output_type != \"display_data\") || (!Object.prototype.hasOwnProperty.call(output.data, EXEC_MIME_TYPE))) {\n",
       "      return\n",
       "    }\n",
       "\n",
       "    var toinsert = output_area.element.find(\".\" + CLASS_NAME.split(' ')[0]);\n",
       "\n",
       "    if (output.metadata[EXEC_MIME_TYPE][\"id\"] !== undefined) {\n",
       "      toinsert[toinsert.length - 1].firstChild.textContent = output.data[JS_MIME_TYPE];\n",
       "      // store reference to embed id on output_area\n",
       "      output_area._bokeh_element_id = output.metadata[EXEC_MIME_TYPE][\"id\"];\n",
       "    }\n",
       "    if (output.metadata[EXEC_MIME_TYPE][\"server_id\"] !== undefined) {\n",
       "      var bk_div = document.createElement(\"div\");\n",
       "      bk_div.innerHTML = output.data[HTML_MIME_TYPE];\n",
       "      var script_attrs = bk_div.children[0].attributes;\n",
       "      for (var i = 0; i < script_attrs.length; i++) {\n",
       "        toinsert[toinsert.length - 1].firstChild.setAttribute(script_attrs[i].name, script_attrs[i].value);\n",
       "        toinsert[toinsert.length - 1].firstChild.textContent = bk_div.children[0].textContent\n",
       "      }\n",
       "      // store reference to server id on output_area\n",
       "      output_area._bokeh_server_id = output.metadata[EXEC_MIME_TYPE][\"server_id\"];\n",
       "    }\n",
       "  }\n",
       "\n",
       "  function register_renderer(events, OutputArea) {\n",
       "\n",
       "    function append_mime(data, metadata, element) {\n",
       "      // create a DOM node to render to\n",
       "      var toinsert = this.create_output_subarea(\n",
       "        metadata,\n",
       "        CLASS_NAME,\n",
       "        EXEC_MIME_TYPE\n",
       "      );\n",
       "      this.keyboard_manager.register_events(toinsert);\n",
       "      // Render to node\n",
       "      var props = {data: data, metadata: metadata[EXEC_MIME_TYPE]};\n",
       "      render(props, toinsert[toinsert.length - 1]);\n",
       "      element.append(toinsert);\n",
       "      return toinsert\n",
       "    }\n",
       "\n",
       "    /* Handle when an output is cleared or removed */\n",
       "    events.on('clear_output.CodeCell', handleClearOutput);\n",
       "    events.on('delete.Cell', handleClearOutput);\n",
       "\n",
       "    /* Handle when a new output is added */\n",
       "    events.on('output_added.OutputArea', handleAddOutput);\n",
       "\n",
       "    /**\n",
       "     * Register the mime type and append_mime function with output_area\n",
       "     */\n",
       "    OutputArea.prototype.register_mime_type(EXEC_MIME_TYPE, append_mime, {\n",
       "      /* Is output safe? */\n",
       "      safe: true,\n",
       "      /* Index of renderer in `output_area.display_order` */\n",
       "      index: 0\n",
       "    });\n",
       "  }\n",
       "\n",
       "  // register the mime type if in Jupyter Notebook environment and previously unregistered\n",
       "  if (root.Jupyter !== undefined) {\n",
       "    var events = require('base/js/events');\n",
       "    var OutputArea = require('notebook/js/outputarea').OutputArea;\n",
       "\n",
       "    if (OutputArea.prototype.mime_types().indexOf(EXEC_MIME_TYPE) == -1) {\n",
       "      register_renderer(events, OutputArea);\n",
       "    }\n",
       "  }\n",
       "\n",
       "  \n",
       "  if (typeof (root._bokeh_timeout) === \"undefined\" || force === true) {\n",
       "    root._bokeh_timeout = Date.now() + 5000;\n",
       "    root._bokeh_failed_load = false;\n",
       "  }\n",
       "\n",
       "  var NB_LOAD_WARNING = {'data': {'text/html':\n",
       "     \"<div style='background-color: #fdd'>\\n\"+\n",
       "     \"<p>\\n\"+\n",
       "     \"BokehJS does not appear to have successfully loaded. If loading BokehJS from CDN, this \\n\"+\n",
       "     \"may be due to a slow or bad network connection. Possible fixes:\\n\"+\n",
       "     \"</p>\\n\"+\n",
       "     \"<ul>\\n\"+\n",
       "     \"<li>re-rerun `output_notebook()` to attempt to load from CDN again, or</li>\\n\"+\n",
       "     \"<li>use INLINE resources instead, as so:</li>\\n\"+\n",
       "     \"</ul>\\n\"+\n",
       "     \"<code>\\n\"+\n",
       "     \"from bokeh.resources import INLINE\\n\"+\n",
       "     \"output_notebook(resources=INLINE)\\n\"+\n",
       "     \"</code>\\n\"+\n",
       "     \"</div>\"}};\n",
       "\n",
       "  function display_loaded() {\n",
       "    var el = document.getElementById(\"1002\");\n",
       "    if (el != null) {\n",
       "      el.textContent = \"BokehJS is loading...\";\n",
       "    }\n",
       "    if (root.Bokeh !== undefined) {\n",
       "      if (el != null) {\n",
       "        el.textContent = \"BokehJS \" + root.Bokeh.version + \" successfully loaded.\";\n",
       "      }\n",
       "    } else if (Date.now() < root._bokeh_timeout) {\n",
       "      setTimeout(display_loaded, 100)\n",
       "    }\n",
       "  }\n",
       "\n",
       "\n",
       "  function run_callbacks() {\n",
       "    try {\n",
       "      root._bokeh_onload_callbacks.forEach(function(callback) {\n",
       "        if (callback != null)\n",
       "          callback();\n",
       "      });\n",
       "    } finally {\n",
       "      delete root._bokeh_onload_callbacks\n",
       "    }\n",
       "    console.debug(\"Bokeh: all callbacks have finished\");\n",
       "  }\n",
       "\n",
       "  function load_libs(css_urls, js_urls, callback) {\n",
       "    if (css_urls == null) css_urls = [];\n",
       "    if (js_urls == null) js_urls = [];\n",
       "\n",
       "    root._bokeh_onload_callbacks.push(callback);\n",
       "    if (root._bokeh_is_loading > 0) {\n",
       "      console.debug(\"Bokeh: BokehJS is being loaded, scheduling callback at\", now());\n",
       "      return null;\n",
       "    }\n",
       "    if (js_urls == null || js_urls.length === 0) {\n",
       "      run_callbacks();\n",
       "      return null;\n",
       "    }\n",
       "    console.debug(\"Bokeh: BokehJS not loaded, scheduling load and callback at\", now());\n",
       "    root._bokeh_is_loading = css_urls.length + js_urls.length;\n",
       "\n",
       "    function on_load() {\n",
       "      root._bokeh_is_loading--;\n",
       "      if (root._bokeh_is_loading === 0) {\n",
       "        console.debug(\"Bokeh: all BokehJS libraries/stylesheets loaded\");\n",
       "        run_callbacks()\n",
       "      }\n",
       "    }\n",
       "\n",
       "    function on_error(url) {\n",
       "      console.error(\"failed to load \" + url);\n",
       "    }\n",
       "\n",
       "    for (let i = 0; i < css_urls.length; i++) {\n",
       "      const url = css_urls[i];\n",
       "      const element = document.createElement(\"link\");\n",
       "      element.onload = on_load;\n",
       "      element.onerror = on_error.bind(null, url);\n",
       "      element.rel = \"stylesheet\";\n",
       "      element.type = \"text/css\";\n",
       "      element.href = url;\n",
       "      console.debug(\"Bokeh: injecting link tag for BokehJS stylesheet: \", url);\n",
       "      document.body.appendChild(element);\n",
       "    }\n",
       "\n",
       "    const hashes = {\"https://cdn.bokeh.org/bokeh/release/bokeh-2.3.2.min.js\": \"XypntL49z55iwGVUW4qsEu83zKL3XEcz0MjuGOQ9SlaaQ68X/g+k1FcioZi7oQAc\", \"https://cdn.bokeh.org/bokeh/release/bokeh-tables-2.3.2.min.js\": \"bEsM86IHGDTLCS0Zod8a8WM6Y4+lafAL/eSiyQcuPzinmWNgNO2/olUF0Z2Dkn5i\", \"https://cdn.bokeh.org/bokeh/release/bokeh-widgets-2.3.2.min.js\": \"TX0gSQTdXTTeScqxj6PVQxTiRW8DOoGVwinyi1D3kxv7wuxQ02XkOxv0xwiypcAH\"};\n",
       "\n",
       "    for (let i = 0; i < js_urls.length; i++) {\n",
       "      const url = js_urls[i];\n",
       "      const element = document.createElement('script');\n",
       "      element.onload = on_load;\n",
       "      element.onerror = on_error.bind(null, url);\n",
       "      element.async = false;\n",
       "      element.src = url;\n",
       "      if (url in hashes) {\n",
       "        element.crossOrigin = \"anonymous\";\n",
       "        element.integrity = \"sha384-\" + hashes[url];\n",
       "      }\n",
       "      console.debug(\"Bokeh: injecting script tag for BokehJS library: \", url);\n",
       "      document.head.appendChild(element);\n",
       "    }\n",
       "  };\n",
       "\n",
       "  function inject_raw_css(css) {\n",
       "    const element = document.createElement(\"style\");\n",
       "    element.appendChild(document.createTextNode(css));\n",
       "    document.body.appendChild(element);\n",
       "  }\n",
       "\n",
       "  \n",
       "  var js_urls = [\"https://cdn.bokeh.org/bokeh/release/bokeh-2.3.2.min.js\", \"https://cdn.bokeh.org/bokeh/release/bokeh-widgets-2.3.2.min.js\", \"https://cdn.bokeh.org/bokeh/release/bokeh-tables-2.3.2.min.js\"];\n",
       "  var css_urls = [];\n",
       "  \n",
       "\n",
       "  var inline_js = [\n",
       "    function(Bokeh) {\n",
       "      Bokeh.set_log_level(\"info\");\n",
       "    },\n",
       "    function(Bokeh) {\n",
       "    \n",
       "    \n",
       "    }\n",
       "  ];\n",
       "\n",
       "  function run_inline_js() {\n",
       "    \n",
       "    if (root.Bokeh !== undefined || force === true) {\n",
       "      \n",
       "    for (var i = 0; i < inline_js.length; i++) {\n",
       "      inline_js[i].call(root, root.Bokeh);\n",
       "    }\n",
       "    if (force === true) {\n",
       "        display_loaded();\n",
       "      }} else if (Date.now() < root._bokeh_timeout) {\n",
       "      setTimeout(run_inline_js, 100);\n",
       "    } else if (!root._bokeh_failed_load) {\n",
       "      console.log(\"Bokeh: BokehJS failed to load within specified timeout.\");\n",
       "      root._bokeh_failed_load = true;\n",
       "    } else if (force !== true) {\n",
       "      var cell = $(document.getElementById(\"1002\")).parents('.cell').data().cell;\n",
       "      cell.output_area.append_execute_result(NB_LOAD_WARNING)\n",
       "    }\n",
       "\n",
       "  }\n",
       "\n",
       "  if (root._bokeh_is_loading === 0) {\n",
       "    console.debug(\"Bokeh: BokehJS loaded, going straight to plotting\");\n",
       "    run_inline_js();\n",
       "  } else {\n",
       "    load_libs(css_urls, js_urls, function() {\n",
       "      console.debug(\"Bokeh: BokehJS plotting callback run at\", now());\n",
       "      run_inline_js();\n",
       "    });\n",
       "  }\n",
       "}(window));"
      ],
      "application/vnd.bokehjs_load.v0+json": "\n(function(root) {\n  function now() {\n    return new Date();\n  }\n\n  var force = true;\n\n  if (typeof root._bokeh_onload_callbacks === \"undefined\" || force === true) {\n    root._bokeh_onload_callbacks = [];\n    root._bokeh_is_loading = undefined;\n  }\n\n  \n\n  \n  if (typeof (root._bokeh_timeout) === \"undefined\" || force === true) {\n    root._bokeh_timeout = Date.now() + 5000;\n    root._bokeh_failed_load = false;\n  }\n\n  var NB_LOAD_WARNING = {'data': {'text/html':\n     \"<div style='background-color: #fdd'>\\n\"+\n     \"<p>\\n\"+\n     \"BokehJS does not appear to have successfully loaded. If loading BokehJS from CDN, this \\n\"+\n     \"may be due to a slow or bad network connection. Possible fixes:\\n\"+\n     \"</p>\\n\"+\n     \"<ul>\\n\"+\n     \"<li>re-rerun `output_notebook()` to attempt to load from CDN again, or</li>\\n\"+\n     \"<li>use INLINE resources instead, as so:</li>\\n\"+\n     \"</ul>\\n\"+\n     \"<code>\\n\"+\n     \"from bokeh.resources import INLINE\\n\"+\n     \"output_notebook(resources=INLINE)\\n\"+\n     \"</code>\\n\"+\n     \"</div>\"}};\n\n  function display_loaded() {\n    var el = document.getElementById(\"1002\");\n    if (el != null) {\n      el.textContent = \"BokehJS is loading...\";\n    }\n    if (root.Bokeh !== undefined) {\n      if (el != null) {\n        el.textContent = \"BokehJS \" + root.Bokeh.version + \" successfully loaded.\";\n      }\n    } else if (Date.now() < root._bokeh_timeout) {\n      setTimeout(display_loaded, 100)\n    }\n  }\n\n\n  function run_callbacks() {\n    try {\n      root._bokeh_onload_callbacks.forEach(function(callback) {\n        if (callback != null)\n          callback();\n      });\n    } finally {\n      delete root._bokeh_onload_callbacks\n    }\n    console.debug(\"Bokeh: all callbacks have finished\");\n  }\n\n  function load_libs(css_urls, js_urls, callback) {\n    if (css_urls == null) css_urls = [];\n    if (js_urls == null) js_urls = [];\n\n    root._bokeh_onload_callbacks.push(callback);\n    if (root._bokeh_is_loading > 0) {\n      console.debug(\"Bokeh: BokehJS is being loaded, scheduling callback at\", now());\n      return null;\n    }\n    if (js_urls == null || js_urls.length === 0) {\n      run_callbacks();\n      return null;\n    }\n    console.debug(\"Bokeh: BokehJS not loaded, scheduling load and callback at\", now());\n    root._bokeh_is_loading = css_urls.length + js_urls.length;\n\n    function on_load() {\n      root._bokeh_is_loading--;\n      if (root._bokeh_is_loading === 0) {\n        console.debug(\"Bokeh: all BokehJS libraries/stylesheets loaded\");\n        run_callbacks()\n      }\n    }\n\n    function on_error(url) {\n      console.error(\"failed to load \" + url);\n    }\n\n    for (let i = 0; i < css_urls.length; i++) {\n      const url = css_urls[i];\n      const element = document.createElement(\"link\");\n      element.onload = on_load;\n      element.onerror = on_error.bind(null, url);\n      element.rel = \"stylesheet\";\n      element.type = \"text/css\";\n      element.href = url;\n      console.debug(\"Bokeh: injecting link tag for BokehJS stylesheet: \", url);\n      document.body.appendChild(element);\n    }\n\n    const hashes = {\"https://cdn.bokeh.org/bokeh/release/bokeh-2.3.2.min.js\": \"XypntL49z55iwGVUW4qsEu83zKL3XEcz0MjuGOQ9SlaaQ68X/g+k1FcioZi7oQAc\", \"https://cdn.bokeh.org/bokeh/release/bokeh-tables-2.3.2.min.js\": \"bEsM86IHGDTLCS0Zod8a8WM6Y4+lafAL/eSiyQcuPzinmWNgNO2/olUF0Z2Dkn5i\", \"https://cdn.bokeh.org/bokeh/release/bokeh-widgets-2.3.2.min.js\": \"TX0gSQTdXTTeScqxj6PVQxTiRW8DOoGVwinyi1D3kxv7wuxQ02XkOxv0xwiypcAH\"};\n\n    for (let i = 0; i < js_urls.length; i++) {\n      const url = js_urls[i];\n      const element = document.createElement('script');\n      element.onload = on_load;\n      element.onerror = on_error.bind(null, url);\n      element.async = false;\n      element.src = url;\n      if (url in hashes) {\n        element.crossOrigin = \"anonymous\";\n        element.integrity = \"sha384-\" + hashes[url];\n      }\n      console.debug(\"Bokeh: injecting script tag for BokehJS library: \", url);\n      document.head.appendChild(element);\n    }\n  };\n\n  function inject_raw_css(css) {\n    const element = document.createElement(\"style\");\n    element.appendChild(document.createTextNode(css));\n    document.body.appendChild(element);\n  }\n\n  \n  var js_urls = [\"https://cdn.bokeh.org/bokeh/release/bokeh-2.3.2.min.js\", \"https://cdn.bokeh.org/bokeh/release/bokeh-widgets-2.3.2.min.js\", \"https://cdn.bokeh.org/bokeh/release/bokeh-tables-2.3.2.min.js\"];\n  var css_urls = [];\n  \n\n  var inline_js = [\n    function(Bokeh) {\n      Bokeh.set_log_level(\"info\");\n    },\n    function(Bokeh) {\n    \n    \n    }\n  ];\n\n  function run_inline_js() {\n    \n    if (root.Bokeh !== undefined || force === true) {\n      \n    for (var i = 0; i < inline_js.length; i++) {\n      inline_js[i].call(root, root.Bokeh);\n    }\n    if (force === true) {\n        display_loaded();\n      }} else if (Date.now() < root._bokeh_timeout) {\n      setTimeout(run_inline_js, 100);\n    } else if (!root._bokeh_failed_load) {\n      console.log(\"Bokeh: BokehJS failed to load within specified timeout.\");\n      root._bokeh_failed_load = true;\n    } else if (force !== true) {\n      var cell = $(document.getElementById(\"1002\")).parents('.cell').data().cell;\n      cell.output_area.append_execute_result(NB_LOAD_WARNING)\n    }\n\n  }\n\n  if (root._bokeh_is_loading === 0) {\n    console.debug(\"Bokeh: BokehJS loaded, going straight to plotting\");\n    run_inline_js();\n  } else {\n    load_libs(css_urls, js_urls, function() {\n      console.debug(\"Bokeh: BokehJS plotting callback run at\", now());\n      run_inline_js();\n    });\n  }\n}(window));"
     },
     "metadata": {},
     "output_type": "display_data"
    }
   ],
   "source": [
    "import numpy as np\n",
    "import matplotlib.pyplot as plt\n",
    "%matplotlib inline\n",
    "\n",
    "import bokeh.io\n",
    "import bokeh.plotting\n",
    "\n",
    "bokeh.io.output_notebook()\n",
    "%load_ext line_profiler\n"
   ]
  },
  {
   "cell_type": "code",
   "execution_count": 10,
   "id": "10b80206",
   "metadata": {},
   "outputs": [],
   "source": [
    "# The constraint of the einstien stokes diffusion equation is such that D < (dx^2)/2dt\n",
    "D = 0.001"
   ]
  },
  {
   "cell_type": "code",
   "execution_count": 11,
   "id": "f8fa907c",
   "metadata": {},
   "outputs": [
    {
     "name": "stdout",
     "output_type": "stream",
     "text": [
      "0.0125\n"
     ]
    }
   ],
   "source": [
    "x_size = 200\n",
    "x_max = 1\n",
    "dx = x_max/x_size\n",
    "\n",
    "t_max = 10\n",
    "print((dx*dx)/(2*D))\n",
    "dt = 0.01\n",
    "n_iter = int(t_max/dt)"
   ]
  },
  {
   "cell_type": "code",
   "execution_count": 12,
   "id": "4234485e",
   "metadata": {},
   "outputs": [],
   "source": [
    "C = np.zeros(x_size)\n",
    "C[0] = 1"
   ]
  },
  {
   "cell_type": "code",
   "execution_count": 13,
   "id": "a60987a0",
   "metadata": {},
   "outputs": [],
   "source": [
    "def laplacian1D(Z):\n",
    "    Zleft = Z[0:-2]\n",
    "    Zright = Z[2:]\n",
    "    Zcenter = Z[1:-1]\n",
    "    return (Zleft + Zright -2 * Zcenter) / dx**2"
   ]
  },
  {
   "cell_type": "code",
   "execution_count": 14,
   "id": "df5cef7b",
   "metadata": {},
   "outputs": [
    {
     "name": "stdout",
     "output_type": "stream",
     "text": [
      "0.4\n",
      "0.40000000000000013\n",
      "0.3999999999999999\n",
      "0.39999999999999997\n",
      "0.39999999999999986\n",
      "0.40000000000000013\n",
      "0.3999999999999999\n",
      "0.39999999999999974\n",
      "0.40000000000000013\n",
      "0.3999999999999999\n",
      "0.39999999999999997\n",
      "0.3999999999999999\n",
      "0.39999999999999974\n",
      "0.4000000000000002\n",
      "0.39999999999999997\n",
      "0.40000000000000024\n",
      "0.39999999999999986\n",
      "0.3999999999999999\n",
      "0.39999999999999986\n",
      "0.3999999999999997\n",
      "0.39999999999999986\n",
      "0.4\n",
      "0.3999999999999999\n",
      "0.40000000000000013\n",
      "0.3999999999999999\n",
      "0.39999999999999974\n",
      "0.39999999999999986\n",
      "0.39999999999999986\n",
      "0.39999999999999997\n",
      "0.3999999999999993\n",
      "0.3999999999999998\n",
      "0.3999999999999998\n",
      "0.39999999999999986\n",
      "0.3999999999999998\n",
      "0.39999999999999997\n",
      "0.3999999999999999\n",
      "0.39999999999999986\n",
      "0.3999999999999999\n",
      "0.39999999999999997\n",
      "0.39999999999999974\n",
      "0.3999999999999994\n",
      "0.3999999999999999\n",
      "0.40000000000000013\n",
      "0.3999999999999998\n",
      "0.3999999999999999\n",
      "0.40000000000000013\n",
      "0.39999999999999986\n",
      "0.39999999999999974\n",
      "0.39999999999999947\n"
     ]
    },
    {
     "data": {
      "image/png": "[encoded data removed]",
      "text/plain": [
       "<Figure size 720x720 with 1 Axes>"
      ]
     },
     "metadata": {
      "needs_background": "light"
     },
     "output_type": "display_data"
    }
   ],
   "source": [
    "i_plot = np.round(np.linspace(0,t_max/dt,50))\n",
    "plt. figure(figsize = (10,10))\n",
    "plot_obj = bokeh.plotting.figure(plot_width = 900, plot_height = 600, x_axis_label = 'time', y_axis_label = 'C')\n",
    "for i in range(n_iter): \n",
    "    deltaC = laplacian1D(C)\n",
    "    Cc = C[1:-1]\n",
    "    C[1:-1] = Cc + dt*(D * deltaC)\n",
    "    \n",
    "    for Z in (C,):\n",
    "        Z[0] = Z[1]\n",
    "        Z[-1] = Z[-2]\n",
    "        \n",
    "    if i in i_plot:\n",
    "        print(sum(Cc))\n",
    "#         plot_obj.line(np.linspace(0, x_max, x_size), C, line_width = 1)\n",
    "        plt.plot(C)\n",
    "        \n",
    "# bokeh.io.show(bokeh.layouts.gridplot([plot_obj], ncols = 1))"
   ]
  },
  {
   "cell_type": "markdown",
   "id": "0b8c4012",
   "metadata": {},
   "source": [
    "# Creating nutrient model for biofilm model"
   ]
  },
  {
   "cell_type": "markdown",
   "id": "89c12959",
   "metadata": {},
   "source": [
    "Starting with the diffusion equation from before:\n",
    "$$\\frac{\\partial N(x,t)}{\\partial t} = D \\nabla ^2 N (x,t)$$\n",
    "Now to add nutrient diffusion from the agar, we will assume this happens at a constant rate into x=0:\n",
    "$$\\frac{\\partial N(x=0,t)}{\\partial t} = D_A A$$\n",
    "$$\\frac{dA}{dt}= - D_A A$$"
   ]
  },
  {
   "cell_type": "code",
   "execution_count": 19,
   "id": "78f7e6ef",
   "metadata": {},
   "outputs": [],
   "source": [
    "# The constraint of the einstien stokes diffusion equation is such that D < (dx^2)/2dt\n",
    "D =   0.000005\n",
    "D_A = 0.00005\n",
    "A = 100"
   ]
  },
  {
   "cell_type": "code",
   "execution_count": 20,
   "id": "ee559ac7",
   "metadata": {},
   "outputs": [
    {
     "name": "stdout",
     "output_type": "stream",
     "text": [
      "2.5\n"
     ]
    }
   ],
   "source": [
    "x_size = 200\n",
    "x_max = 1\n",
    "dx = x_max/x_size\n",
    "\n",
    "t_max = 60*60*30\n",
    "print((dx*dx)/(2*D))\n",
    "dt = 1\n",
    "n_iter = int(t_max/dt)"
   ]
  },
  {
   "cell_type": "code",
   "execution_count": 21,
   "id": "ce800441",
   "metadata": {},
   "outputs": [],
   "source": [
    "C = np.zeros(x_size)"
   ]
  },
  {
   "cell_type": "code",
   "execution_count": 22,
   "id": "9126ef21",
   "metadata": {},
   "outputs": [],
   "source": [
    "def laplacian1D(Z):\n",
    "    Zleft = Z[0:-2]\n",
    "    Zright = Z[2:]\n",
    "    Zcenter = Z[1:-1]\n",
    "    return (Zleft + Zright -2 * Zcenter) / dx**2\n"
   ]
  },
  {
   "cell_type": "code",
   "execution_count": 23,
   "id": "f05f9d3e",
   "metadata": {},
   "outputs": [
    {
     "name": "stdout",
     "output_type": "stream",
     "text": [
      "A:  100 C:  0.0 Total:  100.0\n",
      "A:  89.56525187766145 C:  10.434748122338503 Total:  99.99999999999996\n",
      "A:  80.21934343908943 C:  19.780656560910547 Total:  99.99999999999997\n",
      "A:  71.84865700582687 C:  28.151342994173184 Total:  100.00000000000006\n",
      "A:  64.3514306179861 C:  35.64856938201423 Total:  100.00000000000033\n",
      "A:  57.636520919877775 C:  42.36347908012242 Total:  100.0000000000002\n",
      "A:  51.62229513540954 C:  48.3777048645906 Total:  100.00000000000014\n",
      "A:  46.23332688112599 C:  53.76667311887398 Total:  99.99999999999997\n",
      "A:  41.40899567250292 C:  58.59100432749689 Total:  99.9999999999998\n",
      "A:  37.08807127408711 C:  62.91192872591255 Total:  99.99999999999966\n",
      "A:  33.21802445320272 C:  66.78197554679703 Total:  99.99999999999974\n",
      "A:  29.751807270294247 C:  70.24819272970541 Total:  99.99999999999966\n",
      "A:  26.647281119795508 C:  73.35271888020432 Total:  99.99999999999983\n",
      "A:  23.866704453493387 C:  76.13329554650639 Total:  99.99999999999977\n",
      "A:  21.376273958668364 C:  78.6237260413314 Total:  99.99999999999976\n",
      "A:  19.145713613140252 C:  80.85428638685946 Total:  99.99999999999972\n",
      "A:  17.147906621384788 C:  82.85209337861488 Total:  99.99999999999967\n",
      "A:  15.358565757189444 C:  84.64143424281016 Total:  99.9999999999996\n",
      "A:  13.755938105222997 C:  86.24406189477669 Total:  99.99999999999969\n",
      "A:  12.319924585047557 C:  87.680075414952 Total:  99.99999999999956\n",
      "A:  11.034371485735768 C:  88.96562851426381 Total:  99.99999999999957\n",
      "A:  9.8829626143161 C:  90.11703738568343 Total:  99.99999999999953\n",
      "A:  8.851700358487305 C:  91.14829964151227 Total:  99.99999999999957\n",
      "A:  7.928047721534993 C:  92.07195227846466 Total:  99.99999999999966\n",
      "A:  7.100775910774026 C:  92.89922408922561 Total:  99.99999999999963\n",
      "A:  6.3598278297530735 C:  93.64017217024643 Total:  99.9999999999995\n",
      "A:  5.696195814703984 C:  94.30380418529565 Total:  99.99999999999963\n",
      "A:  5.101812128884433 C:  94.89818787111514 Total:  99.99999999999957\n",
      "A:  4.569450883560417 C:  95.43054911643914 Total:  99.99999999999956\n",
      "A:  4.092640193286908 C:  95.90735980671272 Total:  99.99999999999963\n",
      "A:  3.6655834975638366 C:  96.33441650243579 Total:  99.99999999999962\n",
      "A:  3.2829249379244207 C:  96.71707506207522 Total:  99.99999999999964\n",
      "A:  2.94035998960657 C:  97.05964001039308 Total:  99.99999999999966\n",
      "A:  2.6335408308011052 C:  97.36645916919855 Total:  99.99999999999966\n",
      "A:  2.358737478408056 C:  97.64126252159156 Total:  99.99999999999962\n",
      "A:  2.11260916366898 C:  97.8873908363306 Total:  99.99999999999957\n",
      "A:  1.89216371863068 C:  98.10783628136889 Total:  99.99999999999957\n",
      "A:  1.6947212005292949 C:  98.3052787994703 Total:  99.9999999999996\n",
      "A:  1.5178813118781924 C:  98.48211868812142 Total:  99.99999999999962\n",
      "A:  1.3594942201876599 C:  98.64050577981186 Total:  99.99999999999952\n",
      "A:  1.2176344225733244 C:  98.78236557742616 Total:  99.99999999999949\n",
      "A:  1.0905773375269034 C:  98.90942266247264 Total:  99.99999999999955\n",
      "A:  0.9767783392766635 C:  99.02322166072294 Total:  99.9999999999996\n",
      "A:  0.8748102371605898 C:  99.12518976283899 Total:  99.99999999999957\n",
      "A:  0.783525992364451 C:  99.21647400763517 Total:  99.99999999999962\n",
      "A:  0.7017670285881681 C:  99.29823297141142 Total:  99.99999999999959\n",
      "A:  0.6285394067493738 C:  99.37146059325023 Total:  99.9999999999996\n",
      "A:  0.5629529028054352 C:  99.43704709719414 Total:  99.99999999999957\n",
      "A:  0.5042101853502954 C:  99.49578981464927 Total:  99.99999999999956\n"
     ]
    },
    {
     "data": {
      "image/png": "[encoded data removed]",
      "text/plain": [
       "<Figure size 432x288 with 2 Axes>"
      ]
     },
     "metadata": {
      "needs_background": "light"
     },
     "output_type": "display_data"
    }
   ],
   "source": [
    "i_plot = np.round(np.linspace(0,t_max/dt,50))\n",
    "colors = plt.get_cmap(\"rainbow\", 50)\n",
    "color_index = 0\n",
    "fig, (ax1, ax2) = plt.subplots(1, 2)\n",
    "plot_obj = bokeh.plotting.figure(plot_width = 900, plot_height = 600, x_axis_label = 'time', y_axis_label = 'C')\n",
    "for i in range(n_iter): \n",
    "    if i in i_plot:\n",
    "        color_index = color_index + 1\n",
    "        print(\"A: \",A, \"C: \", sum(C[1:-1]), \"Total: \", A + sum(C[1:-1]))\n",
    "    #         plot_obj.line(np.linspace(0, x_max, x_size), C, line_width = 1)\n",
    "\n",
    "    #         plt.plot(A,1, color = colors(color_index))\n",
    "        ax1.scatter(1, A, color = colors(color_index))\n",
    "        ax2.plot(C, color = colors(color_index))\n",
    "    \n",
    "    C[0] = C[0] + dt*(D_A * A)\n",
    "    C[1] = C[1] + dt*(D_A * A)\n",
    "    A = A + dt*(-D_A * A)\n",
    "    deltaC = laplacian1D(C)\n",
    "    Cc = C[1:-1]\n",
    "    C[1:-1] = Cc + dt*(D * deltaC)\n",
    "    for Z in (C,):\n",
    "        Z[0] = Z[1]\n",
    "        Z[-1] = Z[-2]\n",
    "        \n",
    "\n",
    "\n",
    "        \n",
    "# bokeh.io.show(bokeh.layouts.gridplot([plot_obj], ncols = 1))"
   ]
  },
  {
   "cell_type": "markdown",
   "id": "83bbf1db",
   "metadata": {},
   "source": [
    "## Modelling diffusion in agar"
   ]
  },
  {
   "cell_type": "markdown",
   "id": "b8a8bf14",
   "metadata": {},
   "source": [
    "The previous modelled the spatial diffusion of nutrients through the biofilm, but not through the agar. In this model we will model spatial diffusion of nutrients in both agar and the biofilm."
   ]
  },
  {
   "cell_type": "code",
   "execution_count": null,
   "id": "d3ff2cf5",
   "metadata": {},
   "outputs": [],
   "source": []
  },
  {
   "cell_type": "code",
   "execution_count": 6,
   "id": "85ff9949",
   "metadata": {},
   "outputs": [
    {
     "name": "stdout",
     "output_type": "stream",
     "text": [
      "2.5e-05\n"
     ]
    }
   ],
   "source": [
    "# C[0:199] = Agar, C[200:-1] = Biofilm\n",
    "x_size = 400\n",
    "x_max = 2\n",
    "dx = x_max/x_size\n",
    "\n",
    "t_max = 100\n",
    "print((dx*dx)/(2*D))\n",
    "dt = 2e-5\n",
    "n_iter = int(t_max/dt)"
   ]
  },
  {
   "cell_type": "code",
   "execution_count": 7,
   "id": "15d64efb",
   "metadata": {},
   "outputs": [
    {
     "name": "stderr",
     "output_type": "stream",
     "text": [
      "<ipython-input-7-c53fff2920fd>:5: RuntimeWarning: overflow encountered in exp\n",
      "  D_array = 1/(1+np.exp(-10*(np.linspace(0,x_size-1,x_size)-int(x_size/2))))\n",
      "<ipython-input-7-c53fff2920fd>:10: RuntimeWarning: overflow encountered in exp\n",
      "  C = (1 - 1/(1+np.exp(-10*(np.linspace(0,x_size-1,x_size)-int(x_size/2)))))*A\n"
     ]
    }
   ],
   "source": [
    "# The constraint of the einstien stokes diffusion equation is such that D < (dx^2)/2dt\n",
    "D =   0.5\n",
    "D_A = 0.0005\n",
    "A = 100\n",
    "D_array = 1/(1+np.exp(-10*(np.linspace(0,x_size-1,x_size)-int(x_size/2))))\n",
    "D_array = D_array*(D-D_A) + D_A\n",
    "\n",
    "\n",
    "C = np.zeros(x_size)\n",
    "C = (1 - 1/(1+np.exp(-10*(np.linspace(0,x_size-1,x_size)-int(x_size/2)))))*A\n",
    "# print(C)"
   ]
  },
  {
   "cell_type": "code",
   "execution_count": 8,
   "id": "45a46523",
   "metadata": {},
   "outputs": [],
   "source": [
    "def laplacian1D(Z):\n",
    "    Zleft = Z[0:-2]\n",
    "    Zright = Z[2:]\n",
    "    Zcenter = Z[1:-1]\n",
    "    return (Zleft + Zright -2 * Zcenter) / dx**2\n",
    "def diff1D(Z):\n",
    "    Zleft = Z[0:-2]\n",
    "    Zright = Z[2:]\n",
    "    Zfarleft = [Z[1]-Z[0]]\n",
    "    Zfarright = [Z[-1] - Z[-2]]\n",
    "#     return np.concatenate((Zfarleft, Zright - Zleft, Zfarright)) / (2*dx)\n",
    "    return (Zright - Zleft) / (2*dx)\n",
    "\n",
    "# def diff1D(Z):\n",
    "#     Zleft = Z[0:-1]\n",
    "#     Zright = Z[1:]\n",
    "#     return (Zright - Zleft) / (2*dx)"
   ]
  },
  {
   "cell_type": "code",
   "execution_count": 9,
   "id": "c9c0531a",
   "metadata": {},
   "outputs": [
    {
     "name": "stdout",
     "output_type": "stream",
     "text": [
      "19950.0\n",
      "19950.0000000001\n",
      "19950.00000000047\n",
      "19950.000000000437\n",
      "19949.9999999996\n",
      "19949.99999999938\n",
      "19949.99999999971\n",
      "19949.999999999527\n",
      "19949.999999998796\n",
      "19949.999999996977\n",
      "19949.999999992626\n",
      "19949.99999999041\n",
      "19949.99999998985\n",
      "19949.999999989588\n",
      "19949.999999989555\n",
      "19949.99999999086\n",
      "19949.999999992568\n",
      "19949.999999994252\n",
      "19949.999999996016\n",
      "19949.999999997683\n",
      "19949.999999999356\n",
      "19950.00000000109\n",
      "19950.000000002812\n",
      "19950.00000000454\n",
      "19950.00000000628\n",
      "19950.00000000815\n",
      "19950.00000001156\n",
      "19950.000000013693\n",
      "19950.000000013595\n",
      "19950.000000013602\n",
      "19950.00000001354\n",
      "19950.000000013504\n",
      "19950.000000013468\n",
      "19950.000000013446\n",
      "19950.00000001346\n",
      "19950.000000013435\n",
      "19950.0000000134\n",
      "19950.000000013344\n",
      "19950.000000013293\n",
      "19950.000000013268\n",
      "19950.000000013224\n",
      "19950.000000013213\n",
      "19950.000000013282\n",
      "19950.00000001477\n",
      "19950.000000018223\n",
      "19950.000000021577\n",
      "19950.000000025157\n",
      "19950.000000028496\n",
      "19950.00000003214\n"
     ]
    },
    {
     "data": {
      "image/png": "[encoded data removed]",
      "text/plain": [
       "<Figure size 432x288 with 1 Axes>"
      ]
     },
     "metadata": {
      "needs_background": "light"
     },
     "output_type": "display_data"
    }
   ],
   "source": [
    "i_plot = np.round(np.linspace(0,t_max/dt,50))\n",
    "colors = plt.get_cmap(\"rainbow\", 50)\n",
    "color_index = 0\n",
    "fig, (ax1) = plt.subplots(1, 1)\n",
    "plot_obj = bokeh.plotting.figure(plot_width = 900, plot_height = 600, x_axis_label = 'time', y_axis_label = 'C')\n",
    "for i in range(n_iter): \n",
    "    if i in i_plot:\n",
    "        print(sum(C[1:-1]))\n",
    "        color_index = color_index + 1\n",
    "#         print(A)\n",
    "    #         plot_obj.line(np.linspace(0, x_max, x_size), C, line_width = 1)\n",
    "\n",
    "    #         plt.plot(A,1, color = colors(color_index))\n",
    "        ax1.plot(C, color = colors(color_index))\n",
    "        \n",
    "#     deltaC = D_array*diff1D(C)\n",
    "#     \n",
    "    \n",
    "    \n",
    "    \n",
    "    deltaC = np.gradient(C, dx, edge_order = 2)\n",
    "#     deltaC = D_array*np.concatenate(([deltaC[0]], deltaC, [deltaC[-1]]))\n",
    "    deltaC = D_array*deltaC\n",
    "    \n",
    "    C = C + (dt*(np.gradient(deltaC, dx, edge_order = 2)))\n",
    "    \n",
    "    for Z in (C,):\n",
    "        Z[0] = Z[1]\n",
    "        Z[-1] = Z[-2]\n",
    "\n",
    "        \n",
    "# bokeh.io.show(bokeh.layouts.gridplot([plot_obj], ncols = 1))"
   ]
  },
  {
   "cell_type": "code",
   "execution_count": null,
   "id": "d48bbdc3",
   "metadata": {
    "collapsed": true,
    "jupyter": {
     "outputs_hidden": true
    }
   },
   "outputs": [],
   "source": [
    "D_array"
   ]
  },
  {
   "cell_type": "code",
   "execution_count": null,
   "id": "47bee2ba",
   "metadata": {},
   "outputs": [],
   "source": [
    "# The constraint of the einstien stokes diffusion equation is such that D < (dx^2)/2dt\n",
    "D =   0.005\n",
    "D_A = 0.0005\n",
    "A = 100\n",
    "D_array = np.concatenate((np.ones(200)*D_A,np.ones(200)*D))"
   ]
  },
  {
   "cell_type": "code",
   "execution_count": null,
   "id": "4a78a3d2",
   "metadata": {},
   "outputs": [],
   "source": [
    "# C[0:199] = Agar, C[200:-1] = Biofilm\n",
    "x_size = 400\n",
    "x_max = 2\n",
    "dx = x_max/x_size\n",
    "\n",
    "t_max = 60\n",
    "print((dx*dx)/(2*D))\n",
    "dt = 0.001\n",
    "n_iter = int(t_max/dt)"
   ]
  },
  {
   "cell_type": "code",
   "execution_count": null,
   "id": "14c0d0d0",
   "metadata": {},
   "outputs": [],
   "source": [
    "C = np.zeros(x_size)\n",
    "C[0:199] = 10"
   ]
  },
  {
   "cell_type": "code",
   "execution_count": null,
   "id": "13d53e26",
   "metadata": {},
   "outputs": [],
   "source": [
    "def laplacian1D(Z):\n",
    "    Zleft = np.concatenate(([Z[0]], Z[0:-1]))\n",
    "    Zright = np.concatenate((Z[1:], [Z[-1]]))\n",
    "    Zcenter = Z\n",
    "    return (Zleft + Zright -2 * Zcenter) / dx**2"
   ]
  },
  {
   "cell_type": "code",
   "execution_count": null,
   "id": "e5ff61ff",
   "metadata": {},
   "outputs": [],
   "source": [
    "i_plot = np.round(np.linspace(0,t_max/dt,50))\n",
    "colors = plt.get_cmap(\"rainbow\", 50)\n",
    "color_index = 0\n",
    "fig, (ax1) = plt.subplots(1, 1)\n",
    "plot_obj = bokeh.plotting.figure(plot_width = 900, plot_height = 600, x_axis_label = 'time', y_axis_label = 'C')\n",
    "for i in range(n_iter): \n",
    "    if i in i_plot:\n",
    "        print(sum(C[1:-1]))\n",
    "        color_index = color_index + 1\n",
    "#         print(A)\n",
    "    #         plot_obj.line(np.linspace(0, x_max, x_size), C, line_width = 1)\n",
    "\n",
    "    #         plt.plot(A,1, color = colors(color_index))\n",
    "        ax1.plot(C, color = colors(color_index))\n",
    "        \n",
    "    deltaC = laplacian1D(C)\n",
    "#     Cc = C[1:-1]\n",
    "    \n",
    "    C = C + dt*(D_array * deltaC)\n",
    "    \n",
    "#     for Z in (C,):\n",
    "#         Z[0] = Z[1]\n",
    "#         Z[-1] = Z[-2]\n",
    "\n",
    "        \n",
    "# bokeh.io.show(bokeh.layouts.gridplot([plot_obj], ncols = 1))"
   ]
  },
  {
   "cell_type": "code",
   "execution_count": null,
   "id": "ebbcabe4",
   "metadata": {},
   "outputs": [],
   "source": [
    "a = [1,2,3,4]"
   ]
  },
  {
   "cell_type": "code",
   "execution_count": null,
   "id": "2b5c3cd3",
   "metadata": {},
   "outputs": [],
   "source": [
    "[a[0]] + a[0:-1]"
   ]
  },
  {
   "cell_type": "code",
   "execution_count": null,
   "id": "e8323eda",
   "metadata": {},
   "outputs": [],
   "source": [
    "a[1:] + [a[-1]]"
   ]
  },
  {
   "cell_type": "code",
   "execution_count": null,
   "id": "70edeb4c",
   "metadata": {},
   "outputs": [],
   "source": [
    "a"
   ]
  },
  {
   "cell_type": "code",
   "execution_count": null,
   "id": "501d86ed",
   "metadata": {},
   "outputs": [],
   "source": [
    "Z"
   ]
  },
  {
   "cell_type": "code",
   "execution_count": 188,
   "id": "f59958cb",
   "metadata": {},
   "outputs": [
    {
     "data": {
      "text/plain": [
       "400"
      ]
     },
     "execution_count": 188,
     "metadata": {},
     "output_type": "execute_result"
    }
   ],
   "source": [
    "len(np.gradient(C, dx))"
   ]
  },
  {
   "cell_type": "code",
   "execution_count": 195,
   "id": "252aba0a",
   "metadata": {},
   "outputs": [
    {
     "data": {
      "text/plain": [
       "8"
      ]
     },
     "execution_count": 195,
     "metadata": {},
     "output_type": "execute_result"
    }
   ],
   "source": [
    "a = [1,1,1,2,2,2,3,4]\n",
    "len(a)"
   ]
  },
  {
   "cell_type": "code",
   "execution_count": 194,
   "id": "391b09f3",
   "metadata": {},
   "outputs": [
    {
     "data": {
      "text/plain": [
       "array([0. , 0. , 0.5, 0.5, 0. , 0.5, 1. , 1. ])"
      ]
     },
     "execution_count": 194,
     "metadata": {},
     "output_type": "execute_result"
    }
   ],
   "source": [
    "np.gradient(a)"
   ]
  },
  {
   "cell_type": "code",
   "execution_count": 200,
   "id": "9e3e63c0",
   "metadata": {},
   "outputs": [
    {
     "data": {
      "text/plain": [
       "array([5.00000000e-06, 5.00000000e-06, 5.00000000e-06, 5.00000000e-06,\n",
       "       5.00000000e-06, 5.00000000e-06, 5.00000000e-06, 5.00000000e-06,\n",
       "       5.00000000e-06, 5.00000000e-06, 5.00000000e-06, 5.00000000e-06,\n",
       "       5.00000000e-06, 5.00000000e-06, 5.00000000e-06, 5.00000000e-06,\n",
       "       5.00000000e-06, 5.00000000e-06, 5.00000000e-06, 5.00000000e-06,\n",
       "       5.00000000e-06, 5.00000000e-06, 5.00000000e-06, 5.00000000e-06,\n",
       "       5.00000000e-06, 5.00000000e-06, 5.00000000e-06, 5.00000000e-06,\n",
       "       5.00000000e-06, 5.00000000e-06, 5.00000000e-06, 5.00000000e-06,\n",
       "       5.00000000e-06, 5.00000000e-06, 5.00000000e-06, 5.00000000e-06,\n",
       "       5.00000000e-06, 5.00000000e-06, 5.00000000e-06, 5.00000000e-06,\n",
       "       5.00000000e-06, 5.00000000e-06, 5.00000000e-06, 5.00000000e-06,\n",
       "       5.00000000e-06, 5.00000000e-06, 5.00000000e-06, 5.00000000e-06,\n",
       "       5.00000000e-06, 5.00000000e-06, 5.00000000e-06, 5.00000000e-06,\n",
       "       5.00000000e-06, 5.00000000e-06, 5.00000000e-06, 5.00000000e-06,\n",
       "       5.00000000e-06, 5.00000000e-06, 5.00000000e-06, 5.00000000e-06,\n",
       "       5.00000000e-06, 5.00000000e-06, 5.00000000e-06, 5.00000000e-06,\n",
       "       5.00000000e-06, 5.00000000e-06, 5.00000000e-06, 5.00000000e-06,\n",
       "       5.00000000e-06, 5.00000000e-06, 5.00000000e-06, 5.00000000e-06,\n",
       "       5.00000000e-06, 5.00000000e-06, 5.00000000e-06, 5.00000000e-06,\n",
       "       5.00000000e-06, 5.00000000e-06, 5.00000000e-06, 5.00000000e-06,\n",
       "       5.00000000e-06, 5.00000000e-06, 5.00000000e-06, 5.00000000e-06,\n",
       "       5.00000000e-06, 5.00000000e-06, 5.00000000e-06, 5.00000000e-06,\n",
       "       5.00000000e-06, 5.00000000e-06, 5.00000000e-06, 5.00000000e-06,\n",
       "       5.00000000e-06, 5.00000000e-06, 5.00000000e-06, 5.00000000e-06,\n",
       "       5.00000000e-06, 5.00000000e-06, 5.00000000e-06, 5.00000000e-06,\n",
       "       5.00000000e-06, 5.00000000e-06, 5.00000000e-06, 5.00000000e-06,\n",
       "       5.00000000e-06, 5.00000000e-06, 5.00000000e-06, 5.00000000e-06,\n",
       "       5.00000000e-06, 5.00000000e-06, 5.00000000e-06, 5.00000000e-06,\n",
       "       5.00000000e-06, 5.00000000e-06, 5.00000000e-06, 5.00000000e-06,\n",
       "       5.00000000e-06, 5.00000000e-06, 5.00000000e-06, 5.00000000e-06,\n",
       "       5.00000000e-06, 5.00000000e-06, 5.00000000e-06, 5.00000000e-06,\n",
       "       5.00000000e-06, 5.00000000e-06, 5.00000000e-06, 5.00000000e-06,\n",
       "       5.00000000e-06, 5.00000000e-06, 5.00000000e-06, 5.00000000e-06,\n",
       "       5.00000000e-06, 5.00000000e-06, 5.00000000e-06, 5.00000000e-06,\n",
       "       5.00000000e-06, 5.00000000e-06, 5.00000000e-06, 5.00000000e-06,\n",
       "       5.00000000e-06, 5.00000000e-06, 5.00000000e-06, 5.00000000e-06,\n",
       "       5.00000000e-06, 5.00000000e-06, 5.00000000e-06, 5.00000000e-06,\n",
       "       5.00000000e-06, 5.00000000e-06, 5.00000000e-06, 5.00000000e-06,\n",
       "       5.00000000e-06, 5.00000000e-06, 5.00000000e-06, 5.00000000e-06,\n",
       "       5.00000000e-06, 5.00000000e-06, 5.00000000e-06, 5.00000000e-06,\n",
       "       5.00000000e-06, 5.00000000e-06, 5.00000000e-06, 5.00000000e-06,\n",
       "       5.00000000e-06, 5.00000000e-06, 5.00000000e-06, 5.00000000e-06,\n",
       "       5.00000000e-06, 5.00000000e-06, 5.00000000e-06, 5.00000000e-06,\n",
       "       5.00000000e-06, 5.00000000e-06, 5.00000000e-06, 5.00000000e-06,\n",
       "       5.00000000e-06, 5.00000000e-06, 5.00000000e-06, 5.00000000e-06,\n",
       "       5.00000000e-06, 5.00000000e-06, 5.00000000e-06, 5.00000000e-06,\n",
       "       5.00000000e-06, 5.00000000e-06, 5.00000000e-06, 5.00000000e-06,\n",
       "       5.00000000e-06, 5.00000000e-06, 5.00000000e-06, 5.00000000e-06,\n",
       "       5.00000000e-06, 5.00000000e-06, 5.00000000e-06, 5.00000000e-06,\n",
       "       5.00000000e-06, 5.00000000e-06, 5.00001030e-06, 5.22676235e-06,\n",
       "       2.50250000e-03, 4.99977324e-03, 4.99999999e-03, 5.00000000e-03,\n",
       "       5.00000000e-03, 5.00000000e-03, 5.00000000e-03, 5.00000000e-03,\n",
       "       5.00000000e-03, 5.00000000e-03, 5.00000000e-03, 5.00000000e-03,\n",
       "       5.00000000e-03, 5.00000000e-03, 5.00000000e-03, 5.00000000e-03,\n",
       "       5.00000000e-03, 5.00000000e-03, 5.00000000e-03, 5.00000000e-03,\n",
       "       5.00000000e-03, 5.00000000e-03, 5.00000000e-03, 5.00000000e-03,\n",
       "       5.00000000e-03, 5.00000000e-03, 5.00000000e-03, 5.00000000e-03,\n",
       "       5.00000000e-03, 5.00000000e-03, 5.00000000e-03, 5.00000000e-03,\n",
       "       5.00000000e-03, 5.00000000e-03, 5.00000000e-03, 5.00000000e-03,\n",
       "       5.00000000e-03, 5.00000000e-03, 5.00000000e-03, 5.00000000e-03,\n",
       "       5.00000000e-03, 5.00000000e-03, 5.00000000e-03, 5.00000000e-03,\n",
       "       5.00000000e-03, 5.00000000e-03, 5.00000000e-03, 5.00000000e-03,\n",
       "       5.00000000e-03, 5.00000000e-03, 5.00000000e-03, 5.00000000e-03,\n",
       "       5.00000000e-03, 5.00000000e-03, 5.00000000e-03, 5.00000000e-03,\n",
       "       5.00000000e-03, 5.00000000e-03, 5.00000000e-03, 5.00000000e-03,\n",
       "       5.00000000e-03, 5.00000000e-03, 5.00000000e-03, 5.00000000e-03,\n",
       "       5.00000000e-03, 5.00000000e-03, 5.00000000e-03, 5.00000000e-03,\n",
       "       5.00000000e-03, 5.00000000e-03, 5.00000000e-03, 5.00000000e-03,\n",
       "       5.00000000e-03, 5.00000000e-03, 5.00000000e-03, 5.00000000e-03,\n",
       "       5.00000000e-03, 5.00000000e-03, 5.00000000e-03, 5.00000000e-03,\n",
       "       5.00000000e-03, 5.00000000e-03, 5.00000000e-03, 5.00000000e-03,\n",
       "       5.00000000e-03, 5.00000000e-03, 5.00000000e-03, 5.00000000e-03,\n",
       "       5.00000000e-03, 5.00000000e-03, 5.00000000e-03, 5.00000000e-03,\n",
       "       5.00000000e-03, 5.00000000e-03, 5.00000000e-03, 5.00000000e-03,\n",
       "       5.00000000e-03, 5.00000000e-03, 5.00000000e-03, 5.00000000e-03,\n",
       "       5.00000000e-03, 5.00000000e-03, 5.00000000e-03, 5.00000000e-03,\n",
       "       5.00000000e-03, 5.00000000e-03, 5.00000000e-03, 5.00000000e-03,\n",
       "       5.00000000e-03, 5.00000000e-03, 5.00000000e-03, 5.00000000e-03,\n",
       "       5.00000000e-03, 5.00000000e-03, 5.00000000e-03, 5.00000000e-03,\n",
       "       5.00000000e-03, 5.00000000e-03, 5.00000000e-03, 5.00000000e-03,\n",
       "       5.00000000e-03, 5.00000000e-03, 5.00000000e-03, 5.00000000e-03,\n",
       "       5.00000000e-03, 5.00000000e-03, 5.00000000e-03, 5.00000000e-03,\n",
       "       5.00000000e-03, 5.00000000e-03, 5.00000000e-03, 5.00000000e-03,\n",
       "       5.00000000e-03, 5.00000000e-03, 5.00000000e-03, 5.00000000e-03,\n",
       "       5.00000000e-03, 5.00000000e-03, 5.00000000e-03, 5.00000000e-03,\n",
       "       5.00000000e-03, 5.00000000e-03, 5.00000000e-03, 5.00000000e-03,\n",
       "       5.00000000e-03, 5.00000000e-03, 5.00000000e-03, 5.00000000e-03,\n",
       "       5.00000000e-03, 5.00000000e-03, 5.00000000e-03, 5.00000000e-03,\n",
       "       5.00000000e-03, 5.00000000e-03, 5.00000000e-03, 5.00000000e-03,\n",
       "       5.00000000e-03, 5.00000000e-03, 5.00000000e-03, 5.00000000e-03,\n",
       "       5.00000000e-03, 5.00000000e-03, 5.00000000e-03, 5.00000000e-03,\n",
       "       5.00000000e-03, 5.00000000e-03, 5.00000000e-03, 5.00000000e-03,\n",
       "       5.00000000e-03, 5.00000000e-03, 5.00000000e-03, 5.00000000e-03,\n",
       "       5.00000000e-03, 5.00000000e-03, 5.00000000e-03, 5.00000000e-03,\n",
       "       5.00000000e-03, 5.00000000e-03, 5.00000000e-03, 5.00000000e-03,\n",
       "       5.00000000e-03, 5.00000000e-03, 5.00000000e-03, 5.00000000e-03,\n",
       "       5.00000000e-03, 5.00000000e-03, 5.00000000e-03, 5.00000000e-03,\n",
       "       5.00000000e-03, 5.00000000e-03, 5.00000000e-03, 5.00000000e-03,\n",
       "       5.00000000e-03, 5.00000000e-03, 5.00000000e-03, 5.00000000e-03,\n",
       "       5.00000000e-03, 5.00000000e-03, 5.00000000e-03, 5.00000000e-03])"
      ]
     },
     "execution_count": 200,
     "metadata": {},
     "output_type": "execute_result"
    }
   ],
   "source": [
    "D_array"
   ]
  },
  {
   "cell_type": "code",
   "execution_count": null,
   "id": "7ff66bb8",
   "metadata": {},
   "outputs": [],
   "source": []
  }
 ],
 "metadata": {
  "kernelspec": {
   "display_name": "Python 3",
   "language": "python",
   "name": "python3"
  },
  "language_info": {
   "codemirror_mode": {
    "name": "ipython",
    "version": 3
   },
   "file_extension": ".py",
   "mimetype": "text/x-python",
   "name": "python",
   "nbconvert_exporter": "python",
   "pygments_lexer": "ipython3",
   "version": "3.8.8"
  }
 },
 "nbformat": 4,
 "nbformat_minor": 5
}
