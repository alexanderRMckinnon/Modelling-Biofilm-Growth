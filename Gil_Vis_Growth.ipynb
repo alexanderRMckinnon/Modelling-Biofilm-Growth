{
 "cells": [
  {
   "cell_type": "code",
   "execution_count": 47,
   "id": "64adb238-8dc3-4e38-8e35-1e389b165d85",
   "metadata": {},
   "outputs": [
    {
     "data": {
      "text/html": [
       "\n",
       "    <div class=\"bk-root\">\n",
       "        <a href=\"https://bokeh.org\" target=\"_blank\" class=\"bk-logo bk-logo-small bk-logo-notebook\"></a>\n",
       "        <span id=\"1127\">Loading BokehJS ...</span>\n",
       "    </div>"
      ]
     },
     "metadata": {},
     "output_type": "display_data"
    },
    {
     "data": {
      "application/javascript": [
       "\n",
       "(function(root) {\n",
       "  function now() {\n",
       "    return new Date();\n",
       "  }\n",
       "\n",
       "  var force = true;\n",
       "\n",
       "  if (typeof root._bokeh_onload_callbacks === \"undefined\" || force === true) {\n",
       "    root._bokeh_onload_callbacks = [];\n",
       "    root._bokeh_is_loading = undefined;\n",
       "  }\n",
       "\n",
       "  var JS_MIME_TYPE = 'application/javascript';\n",
       "  var HTML_MIME_TYPE = 'text/html';\n",
       "  var EXEC_MIME_TYPE = 'application/vnd.bokehjs_exec.v0+json';\n",
       "  var CLASS_NAME = 'output_bokeh rendered_html';\n",
       "\n",
       "  /**\n",
       "   * Render data to the DOM node\n",
       "   */\n",
       "  function render(props, node) {\n",
       "    var script = document.createElement(\"script\");\n",
       "    node.appendChild(script);\n",
       "  }\n",
       "\n",
       "  /**\n",
       "   * Handle when an output is cleared or removed\n",
       "   */\n",
       "  function handleClearOutput(event, handle) {\n",
       "    var cell = handle.cell;\n",
       "\n",
       "    var id = cell.output_area._bokeh_element_id;\n",
       "    var server_id = cell.output_area._bokeh_server_id;\n",
       "    // Clean up Bokeh references\n",
       "    if (id != null && id in Bokeh.index) {\n",
       "      Bokeh.index[id].model.document.clear();\n",
       "      delete Bokeh.index[id];\n",
       "    }\n",
       "\n",
       "    if (server_id !== undefined) {\n",
       "      // Clean up Bokeh references\n",
       "      var cmd = \"from bokeh.io.state import curstate; print(curstate().uuid_to_server['\" + server_id + \"'].get_sessions()[0].document.roots[0]._id)\";\n",
       "      cell.notebook.kernel.execute(cmd, {\n",
       "        iopub: {\n",
       "          output: function(msg) {\n",
       "            var id = msg.content.text.trim();\n",
       "            if (id in Bokeh.index) {\n",
       "              Bokeh.index[id].model.document.clear();\n",
       "              delete Bokeh.index[id];\n",
       "            }\n",
       "          }\n",
       "        }\n",
       "      });\n",
       "      // Destroy server and session\n",
       "      var cmd = \"import bokeh.io.notebook as ion; ion.destroy_server('\" + server_id + \"')\";\n",
       "      cell.notebook.kernel.execute(cmd);\n",
       "    }\n",
       "  }\n",
       "\n",
       "  /**\n",
       "   * Handle when a new output is added\n",
       "   */\n",
       "  function handleAddOutput(event, handle) {\n",
       "    var output_area = handle.output_area;\n",
       "    var output = handle.output;\n",
       "\n",
       "    // limit handleAddOutput to display_data with EXEC_MIME_TYPE content only\n",
       "    if ((output.output_type != \"display_data\") || (!Object.prototype.hasOwnProperty.call(output.data, EXEC_MIME_TYPE))) {\n",
       "      return\n",
       "    }\n",
       "\n",
       "    var toinsert = output_area.element.find(\".\" + CLASS_NAME.split(' ')[0]);\n",
       "\n",
       "    if (output.metadata[EXEC_MIME_TYPE][\"id\"] !== undefined) {\n",
       "      toinsert[toinsert.length - 1].firstChild.textContent = output.data[JS_MIME_TYPE];\n",
       "      // store reference to embed id on output_area\n",
       "      output_area._bokeh_element_id = output.metadata[EXEC_MIME_TYPE][\"id\"];\n",
       "    }\n",
       "    if (output.metadata[EXEC_MIME_TYPE][\"server_id\"] !== undefined) {\n",
       "      var bk_div = document.createElement(\"div\");\n",
       "      bk_div.innerHTML = output.data[HTML_MIME_TYPE];\n",
       "      var script_attrs = bk_div.children[0].attributes;\n",
       "      for (var i = 0; i < script_attrs.length; i++) {\n",
       "        toinsert[toinsert.length - 1].firstChild.setAttribute(script_attrs[i].name, script_attrs[i].value);\n",
       "        toinsert[toinsert.length - 1].firstChild.textContent = bk_div.children[0].textContent\n",
       "      }\n",
       "      // store reference to server id on output_area\n",
       "      output_area._bokeh_server_id = output.metadata[EXEC_MIME_TYPE][\"server_id\"];\n",
       "    }\n",
       "  }\n",
       "\n",
       "  function register_renderer(events, OutputArea) {\n",
       "\n",
       "    function append_mime(data, metadata, element) {\n",
       "      // create a DOM node to render to\n",
       "      var toinsert = this.create_output_subarea(\n",
       "        metadata,\n",
       "        CLASS_NAME,\n",
       "        EXEC_MIME_TYPE\n",
       "      );\n",
       "      this.keyboard_manager.register_events(toinsert);\n",
       "      // Render to node\n",
       "      var props = {data: data, metadata: metadata[EXEC_MIME_TYPE]};\n",
       "      render(props, toinsert[toinsert.length - 1]);\n",
       "      element.append(toinsert);\n",
       "      return toinsert\n",
       "    }\n",
       "\n",
       "    /* Handle when an output is cleared or removed */\n",
       "    events.on('clear_output.CodeCell', handleClearOutput);\n",
       "    events.on('delete.Cell', handleClearOutput);\n",
       "\n",
       "    /* Handle when a new output is added */\n",
       "    events.on('output_added.OutputArea', handleAddOutput);\n",
       "\n",
       "    /**\n",
       "     * Register the mime type and append_mime function with output_area\n",
       "     */\n",
       "    OutputArea.prototype.register_mime_type(EXEC_MIME_TYPE, append_mime, {\n",
       "      /* Is output safe? */\n",
       "      safe: true,\n",
       "      /* Index of renderer in `output_area.display_order` */\n",
       "      index: 0\n",
       "    });\n",
       "  }\n",
       "\n",
       "  // register the mime type if in Jupyter Notebook environment and previously unregistered\n",
       "  if (root.Jupyter !== undefined) {\n",
       "    var events = require('base/js/events');\n",
       "    var OutputArea = require('notebook/js/outputarea').OutputArea;\n",
       "\n",
       "    if (OutputArea.prototype.mime_types().indexOf(EXEC_MIME_TYPE) == -1) {\n",
       "      register_renderer(events, OutputArea);\n",
       "    }\n",
       "  }\n",
       "\n",
       "  \n",
       "  if (typeof (root._bokeh_timeout) === \"undefined\" || force === true) {\n",
       "    root._bokeh_timeout = Date.now() + 5000;\n",
       "    root._bokeh_failed_load = false;\n",
       "  }\n",
       "\n",
       "  var NB_LOAD_WARNING = {'data': {'text/html':\n",
       "     \"<div style='background-color: #fdd'>\\n\"+\n",
       "     \"<p>\\n\"+\n",
       "     \"BokehJS does not appear to have successfully loaded. If loading BokehJS from CDN, this \\n\"+\n",
       "     \"may be due to a slow or bad network connection. Possible fixes:\\n\"+\n",
       "     \"</p>\\n\"+\n",
       "     \"<ul>\\n\"+\n",
       "     \"<li>re-rerun `output_notebook()` to attempt to load from CDN again, or</li>\\n\"+\n",
       "     \"<li>use INLINE resources instead, as so:</li>\\n\"+\n",
       "     \"</ul>\\n\"+\n",
       "     \"<code>\\n\"+\n",
       "     \"from bokeh.resources import INLINE\\n\"+\n",
       "     \"output_notebook(resources=INLINE)\\n\"+\n",
       "     \"</code>\\n\"+\n",
       "     \"</div>\"}};\n",
       "\n",
       "  function display_loaded() {\n",
       "    var el = document.getElementById(\"1127\");\n",
       "    if (el != null) {\n",
       "      el.textContent = \"BokehJS is loading...\";\n",
       "    }\n",
       "    if (root.Bokeh !== undefined) {\n",
       "      if (el != null) {\n",
       "        el.textContent = \"BokehJS \" + root.Bokeh.version + \" successfully loaded.\";\n",
       "      }\n",
       "    } else if (Date.now() < root._bokeh_timeout) {\n",
       "      setTimeout(display_loaded, 100)\n",
       "    }\n",
       "  }\n",
       "\n",
       "\n",
       "  function run_callbacks() {\n",
       "    try {\n",
       "      root._bokeh_onload_callbacks.forEach(function(callback) {\n",
       "        if (callback != null)\n",
       "          callback();\n",
       "      });\n",
       "    } finally {\n",
       "      delete root._bokeh_onload_callbacks\n",
       "    }\n",
       "    console.debug(\"Bokeh: all callbacks have finished\");\n",
       "  }\n",
       "\n",
       "  function load_libs(css_urls, js_urls, callback) {\n",
       "    if (css_urls == null) css_urls = [];\n",
       "    if (js_urls == null) js_urls = [];\n",
       "\n",
       "    root._bokeh_onload_callbacks.push(callback);\n",
       "    if (root._bokeh_is_loading > 0) {\n",
       "      console.debug(\"Bokeh: BokehJS is being loaded, scheduling callback at\", now());\n",
       "      return null;\n",
       "    }\n",
       "    if (js_urls == null || js_urls.length === 0) {\n",
       "      run_callbacks();\n",
       "      return null;\n",
       "    }\n",
       "    console.debug(\"Bokeh: BokehJS not loaded, scheduling load and callback at\", now());\n",
       "    root._bokeh_is_loading = css_urls.length + js_urls.length;\n",
       "\n",
       "    function on_load() {\n",
       "      root._bokeh_is_loading--;\n",
       "      if (root._bokeh_is_loading === 0) {\n",
       "        console.debug(\"Bokeh: all BokehJS libraries/stylesheets loaded\");\n",
       "        run_callbacks()\n",
       "      }\n",
       "    }\n",
       "\n",
       "    function on_error(url) {\n",
       "      console.error(\"failed to load \" + url);\n",
       "    }\n",
       "\n",
       "    for (let i = 0; i < css_urls.length; i++) {\n",
       "      const url = css_urls[i];\n",
       "      const element = document.createElement(\"link\");\n",
       "      element.onload = on_load;\n",
       "      element.onerror = on_error.bind(null, url);\n",
       "      element.rel = \"stylesheet\";\n",
       "      element.type = \"text/css\";\n",
       "      element.href = url;\n",
       "      console.debug(\"Bokeh: injecting link tag for BokehJS stylesheet: \", url);\n",
       "      document.body.appendChild(element);\n",
       "    }\n",
       "\n",
       "    const hashes = {\"https://cdn.bokeh.org/bokeh/release/bokeh-2.3.2.min.js\": \"XypntL49z55iwGVUW4qsEu83zKL3XEcz0MjuGOQ9SlaaQ68X/g+k1FcioZi7oQAc\", \"https://cdn.bokeh.org/bokeh/release/bokeh-tables-2.3.2.min.js\": \"bEsM86IHGDTLCS0Zod8a8WM6Y4+lafAL/eSiyQcuPzinmWNgNO2/olUF0Z2Dkn5i\", \"https://cdn.bokeh.org/bokeh/release/bokeh-widgets-2.3.2.min.js\": \"TX0gSQTdXTTeScqxj6PVQxTiRW8DOoGVwinyi1D3kxv7wuxQ02XkOxv0xwiypcAH\"};\n",
       "\n",
       "    for (let i = 0; i < js_urls.length; i++) {\n",
       "      const url = js_urls[i];\n",
       "      const element = document.createElement('script');\n",
       "      element.onload = on_load;\n",
       "      element.onerror = on_error.bind(null, url);\n",
       "      element.async = false;\n",
       "      element.src = url;\n",
       "      if (url in hashes) {\n",
       "        element.crossOrigin = \"anonymous\";\n",
       "        element.integrity = \"sha384-\" + hashes[url];\n",
       "      }\n",
       "      console.debug(\"Bokeh: injecting script tag for BokehJS library: \", url);\n",
       "      document.head.appendChild(element);\n",
       "    }\n",
       "  };\n",
       "\n",
       "  function inject_raw_css(css) {\n",
       "    const element = document.createElement(\"style\");\n",
       "    element.appendChild(document.createTextNode(css));\n",
       "    document.body.appendChild(element);\n",
       "  }\n",
       "\n",
       "  \n",
       "  var js_urls = [\"https://cdn.bokeh.org/bokeh/release/bokeh-2.3.2.min.js\", \"https://cdn.bokeh.org/bokeh/release/bokeh-widgets-2.3.2.min.js\", \"https://cdn.bokeh.org/bokeh/release/bokeh-tables-2.3.2.min.js\"];\n",
       "  var css_urls = [];\n",
       "  \n",
       "\n",
       "  var inline_js = [\n",
       "    function(Bokeh) {\n",
       "      Bokeh.set_log_level(\"info\");\n",
       "    },\n",
       "    function(Bokeh) {\n",
       "    \n",
       "    \n",
       "    }\n",
       "  ];\n",
       "\n",
       "  function run_inline_js() {\n",
       "    \n",
       "    if (root.Bokeh !== undefined || force === true) {\n",
       "      \n",
       "    for (var i = 0; i < inline_js.length; i++) {\n",
       "      inline_js[i].call(root, root.Bokeh);\n",
       "    }\n",
       "    if (force === true) {\n",
       "        display_loaded();\n",
       "      }} else if (Date.now() < root._bokeh_timeout) {\n",
       "      setTimeout(run_inline_js, 100);\n",
       "    } else if (!root._bokeh_failed_load) {\n",
       "      console.log(\"Bokeh: BokehJS failed to load within specified timeout.\");\n",
       "      root._bokeh_failed_load = true;\n",
       "    } else if (force !== true) {\n",
       "      var cell = $(document.getElementById(\"1127\")).parents('.cell').data().cell;\n",
       "      cell.output_area.append_execute_result(NB_LOAD_WARNING)\n",
       "    }\n",
       "\n",
       "  }\n",
       "\n",
       "  if (root._bokeh_is_loading === 0) {\n",
       "    console.debug(\"Bokeh: BokehJS loaded, going straight to plotting\");\n",
       "    run_inline_js();\n",
       "  } else {\n",
       "    load_libs(css_urls, js_urls, function() {\n",
       "      console.debug(\"Bokeh: BokehJS plotting callback run at\", now());\n",
       "      run_inline_js();\n",
       "    });\n",
       "  }\n",
       "}(window));"
      ],
      "application/vnd.bokehjs_load.v0+json": "\n(function(root) {\n  function now() {\n    return new Date();\n  }\n\n  var force = true;\n\n  if (typeof root._bokeh_onload_callbacks === \"undefined\" || force === true) {\n    root._bokeh_onload_callbacks = [];\n    root._bokeh_is_loading = undefined;\n  }\n\n  \n\n  \n  if (typeof (root._bokeh_timeout) === \"undefined\" || force === true) {\n    root._bokeh_timeout = Date.now() + 5000;\n    root._bokeh_failed_load = false;\n  }\n\n  var NB_LOAD_WARNING = {'data': {'text/html':\n     \"<div style='background-color: #fdd'>\\n\"+\n     \"<p>\\n\"+\n     \"BokehJS does not appear to have successfully loaded. If loading BokehJS from CDN, this \\n\"+\n     \"may be due to a slow or bad network connection. Possible fixes:\\n\"+\n     \"</p>\\n\"+\n     \"<ul>\\n\"+\n     \"<li>re-rerun `output_notebook()` to attempt to load from CDN again, or</li>\\n\"+\n     \"<li>use INLINE resources instead, as so:</li>\\n\"+\n     \"</ul>\\n\"+\n     \"<code>\\n\"+\n     \"from bokeh.resources import INLINE\\n\"+\n     \"output_notebook(resources=INLINE)\\n\"+\n     \"</code>\\n\"+\n     \"</div>\"}};\n\n  function display_loaded() {\n    var el = document.getElementById(\"1127\");\n    if (el != null) {\n      el.textContent = \"BokehJS is loading...\";\n    }\n    if (root.Bokeh !== undefined) {\n      if (el != null) {\n        el.textContent = \"BokehJS \" + root.Bokeh.version + \" successfully loaded.\";\n      }\n    } else if (Date.now() < root._bokeh_timeout) {\n      setTimeout(display_loaded, 100)\n    }\n  }\n\n\n  function run_callbacks() {\n    try {\n      root._bokeh_onload_callbacks.forEach(function(callback) {\n        if (callback != null)\n          callback();\n      });\n    } finally {\n      delete root._bokeh_onload_callbacks\n    }\n    console.debug(\"Bokeh: all callbacks have finished\");\n  }\n\n  function load_libs(css_urls, js_urls, callback) {\n    if (css_urls == null) css_urls = [];\n    if (js_urls == null) js_urls = [];\n\n    root._bokeh_onload_callbacks.push(callback);\n    if (root._bokeh_is_loading > 0) {\n      console.debug(\"Bokeh: BokehJS is being loaded, scheduling callback at\", now());\n      return null;\n    }\n    if (js_urls == null || js_urls.length === 0) {\n      run_callbacks();\n      return null;\n    }\n    console.debug(\"Bokeh: BokehJS not loaded, scheduling load and callback at\", now());\n    root._bokeh_is_loading = css_urls.length + js_urls.length;\n\n    function on_load() {\n      root._bokeh_is_loading--;\n      if (root._bokeh_is_loading === 0) {\n        console.debug(\"Bokeh: all BokehJS libraries/stylesheets loaded\");\n        run_callbacks()\n      }\n    }\n\n    function on_error(url) {\n      console.error(\"failed to load \" + url);\n    }\n\n    for (let i = 0; i < css_urls.length; i++) {\n      const url = css_urls[i];\n      const element = document.createElement(\"link\");\n      element.onload = on_load;\n      element.onerror = on_error.bind(null, url);\n      element.rel = \"stylesheet\";\n      element.type = \"text/css\";\n      element.href = url;\n      console.debug(\"Bokeh: injecting link tag for BokehJS stylesheet: \", url);\n      document.body.appendChild(element);\n    }\n\n    const hashes = {\"https://cdn.bokeh.org/bokeh/release/bokeh-2.3.2.min.js\": \"XypntL49z55iwGVUW4qsEu83zKL3XEcz0MjuGOQ9SlaaQ68X/g+k1FcioZi7oQAc\", \"https://cdn.bokeh.org/bokeh/release/bokeh-tables-2.3.2.min.js\": \"bEsM86IHGDTLCS0Zod8a8WM6Y4+lafAL/eSiyQcuPzinmWNgNO2/olUF0Z2Dkn5i\", \"https://cdn.bokeh.org/bokeh/release/bokeh-widgets-2.3.2.min.js\": \"TX0gSQTdXTTeScqxj6PVQxTiRW8DOoGVwinyi1D3kxv7wuxQ02XkOxv0xwiypcAH\"};\n\n    for (let i = 0; i < js_urls.length; i++) {\n      const url = js_urls[i];\n      const element = document.createElement('script');\n      element.onload = on_load;\n      element.onerror = on_error.bind(null, url);\n      element.async = false;\n      element.src = url;\n      if (url in hashes) {\n        element.crossOrigin = \"anonymous\";\n        element.integrity = \"sha384-\" + hashes[url];\n      }\n      console.debug(\"Bokeh: injecting script tag for BokehJS library: \", url);\n      document.head.appendChild(element);\n    }\n  };\n\n  function inject_raw_css(css) {\n    const element = document.createElement(\"style\");\n    element.appendChild(document.createTextNode(css));\n    document.body.appendChild(element);\n  }\n\n  \n  var js_urls = [\"https://cdn.bokeh.org/bokeh/release/bokeh-2.3.2.min.js\", \"https://cdn.bokeh.org/bokeh/release/bokeh-widgets-2.3.2.min.js\", \"https://cdn.bokeh.org/bokeh/release/bokeh-tables-2.3.2.min.js\"];\n  var css_urls = [];\n  \n\n  var inline_js = [\n    function(Bokeh) {\n      Bokeh.set_log_level(\"info\");\n    },\n    function(Bokeh) {\n    \n    \n    }\n  ];\n\n  function run_inline_js() {\n    \n    if (root.Bokeh !== undefined || force === true) {\n      \n    for (var i = 0; i < inline_js.length; i++) {\n      inline_js[i].call(root, root.Bokeh);\n    }\n    if (force === true) {\n        display_loaded();\n      }} else if (Date.now() < root._bokeh_timeout) {\n      setTimeout(run_inline_js, 100);\n    } else if (!root._bokeh_failed_load) {\n      console.log(\"Bokeh: BokehJS failed to load within specified timeout.\");\n      root._bokeh_failed_load = true;\n    } else if (force !== true) {\n      var cell = $(document.getElementById(\"1127\")).parents('.cell').data().cell;\n      cell.output_area.append_execute_result(NB_LOAD_WARNING)\n    }\n\n  }\n\n  if (root._bokeh_is_loading === 0) {\n    console.debug(\"Bokeh: BokehJS loaded, going straight to plotting\");\n    run_inline_js();\n  } else {\n    load_libs(css_urls, js_urls, function() {\n      console.debug(\"Bokeh: BokehJS plotting callback run at\", now());\n      run_inline_js();\n    });\n  }\n}(window));"
     },
     "metadata": {},
     "output_type": "display_data"
    },
    {
     "name": "stdout",
     "output_type": "stream",
     "text": [
      "The line_profiler extension is already loaded. To reload it, use:\n",
      "  %reload_ext line_profiler\n"
     ]
    }
   ],
   "source": [
    "import multiprocessing\n",
    "from tqdm.notebook import tqdm\n",
    "import numpy as np\n",
    "import scipy.stats as st\n",
    "import numba\n",
    "\n",
    "# Plotting modules\n",
    "import bokeh.io\n",
    "import bokeh.plotting\n",
    "import biocircuits\n",
    "\n",
    "bokeh.io.output_notebook()\n",
    "\n",
    "# Line profiler (can install with conda install line_profiler)\n",
    "%load_ext line_profiler\n",
    "\n",
    "import matplotlib.pyplot as plt\n",
    "import matplotlib.transforms as mtransforms\n",
    "import matplotlib.patches as mpatch\n",
    "from matplotlib.patches import FancyBboxPatch\n",
    "import time\n",
    "from matplotlib.animation import *"
   ]
  },
  {
   "cell_type": "markdown",
   "id": "6253e501-fff6-464f-b38d-36acaf065b6b",
   "metadata": {},
   "source": [
    "I need to construct some sort of growth model.\n",
    "\n",
    "- Cell volume: $C_V$\n",
    "- Cell volume increase amount: $\\delta$\n",
    "- Nutrients: $n$\n",
    "- Growth rate: $g$\n",
    "$$\\require{mhchem}$$\n",
    "$$\\ce{n ->[g] C_{V}}$$"
   ]
  },
  {
   "cell_type": "code",
   "execution_count": 185,
   "id": "e2364c40-1e80-4720-90cf-fe1f30704b0a",
   "metadata": {},
   "outputs": [],
   "source": [
    "class Cell_Stack:\n",
    "    def __init__(self):\n",
    "        self.all_cells = (cell_single(),)\n",
    "        self.grand_reaction_array = np.array([])\n",
    "        self.update_reaction_array()\n",
    "        self.ID_list = []\n",
    "        self.set_ID(self.all_cells[0] ,'0')\n",
    "\n",
    "    def set_ID(self, curr_cell, new_ID):\n",
    "        curr_cell.ID += str(new_ID)\n",
    "        \n",
    "    def get_variables(self):\n",
    "        all_variables = []\n",
    "        for curr_cell in self.all_cells:\n",
    "            all_variables.extend(curr_cell.get_variables())\n",
    "        return all_variables\n",
    "    \n",
    "    def get_variables_labels(self):\n",
    "        return self.all_cells.get_variables_labels()\n",
    "    \n",
    "    def update_variables(self, update):\n",
    "        len_vars = len(self.all_cells[0].variables.values())\n",
    "        for ind in range(0, len(update), len_vars):\n",
    "            cell_index = int(np.floor(ind/len_vars))\n",
    "            self.all_cells[cell_index].update_variables(update[ind:ind+len_vars])\n",
    "            \n",
    "    def save_data(self, location, time):\n",
    "        with open(location, \"a+\") as f:\n",
    "            ret_str = str(time)\n",
    "            for ind in range(len(self.all_cells)):\n",
    "                ret_str += \"/(\" + self.all_cells[ind].ID + \")\" + str(self.all_cells[ind].get_variables())\n",
    "            f.write(ret_str+\"\\n\")\n",
    "            \n",
    "    def check_split(self):\n",
    "        ind = 0\n",
    "        did_split_occur = False\n",
    "        while ind < len(self.all_cells):\n",
    "            curr_cell = self.all_cells[ind]\n",
    "            if curr_cell.variables[\"V\"] > 100:\n",
    "                out = curr_cell.split_cell()\n",
    "                self.all_cells[ind].set_variables(out[0,:])\n",
    "                self.all_cells = self.all_cells[:ind] + (cell_single(),) + self.all_cells[ind:]\n",
    "                self.all_cells[ind].set_variables(out[1,:])\n",
    "                self.set_ID(self.all_cells[ind], self.all_cells[ind+1].ID + '0')\n",
    "                self.set_ID(self.all_cells[ind+1], '1')\n",
    "                ind = -1\n",
    "                did_split_occur = True\n",
    "            ind += 1\n",
    "        return did_split_occur\n",
    "                \n",
    "    def get_stack_propensities(self):\n",
    "        propensities = np.array([])\n",
    "        for curr_cell in self.all_cells:\n",
    "            propensities = np.concatenate((propensities, curr_cell.get_propensities()))\n",
    "        return propensities\n",
    "        \n",
    "    def update_reaction_array(self):\n",
    "        self.grand_reaction_array = self.all_cells[0].reaction_array\n",
    "        [r_y, r_x] = np.shape(self.grand_reaction_array)\n",
    "        cra_y, cra_x = 0, 0\n",
    "        for curr_cell in self.all_cells[1:]:\n",
    "            cra_y += r_y\n",
    "            cra_x += r_x\n",
    "            self.grand_reaction_array = np.concatenate((np.concatenate((self.grand_reaction_array, np.zeros([cra_y, r_x])), axis=1), np.concatenate((np.zeros([r_y, cra_x]), curr_cell.reaction_array), axis=1)))\n",
    "    \n",
    "class cell_single:\n",
    "    def __init__(self):\n",
    "        self.variables = {\n",
    "            \"V\" : 50,\n",
    "            \"n_i\" : 5000,\n",
    "        }\n",
    "        self.rates = {\n",
    "            \"g\" : 0.05\n",
    "        }\n",
    "        \n",
    "        self.ID = ''\n",
    "        \n",
    "        #                               V, n_i\n",
    "        self.reaction_array = np.array([[1, -1], # R1: Consuption of n_i to make V\n",
    "                                       ], dtype = int)\n",
    "        \n",
    "    def get_propensities(self):\n",
    "#         print(self.variables[\"n_i\"])\n",
    "#         print(self.rates[\"g\"])\n",
    "        return np.array([self.variables[\"n_i\"] * self.rates[\"g\"], # R1: Consuption of n_i to make V\n",
    "                                     ])\n",
    "    def get_variables(self):\n",
    "        return list(self.variables.values())\n",
    "    \n",
    "    def get_variables_labels(self):\n",
    "        return list(self.variables.keys())\n",
    "    \n",
    "    def set_variables(self, new_variables):\n",
    "        for ind, curr_key in enumerate(self.variables.keys()):\n",
    "            self.variables.update({curr_key : new_variables[ind]})\n",
    "            \n",
    "    def update_variables(self, update_variables):\n",
    "        for ind, curr_key in enumerate(self.variables.keys()):\n",
    "            self.variables.update({curr_key : self.variables[curr_key] + update_variables[ind]})\n",
    "    \n",
    "    def split_cell(self):\n",
    "        out = np.zeros([2, len(self.variables)])\n",
    "        for ind, key in enumerate(self.variables.keys()):\n",
    "            r = np.random.uniform(0.25, 0.75)\n",
    "            out[0, ind] = int(round(r*self.variables[key]))\n",
    "            out[1, ind] = int(round((1-r)*self.variables[key]))\n",
    "        return out\n",
    "    \n",
    "        "
   ]
  },
  {
   "cell_type": "code",
   "execution_count": 186,
   "id": "31c3ce74-f5a8-4209-b6e6-2227a9555952",
   "metadata": {},
   "outputs": [],
   "source": [
    "def sample_discrete(probs):\n",
    "    \"\"\"Randomly sample an index with probability given by probs.\"\"\"\n",
    "    # Generate random number\n",
    "    q = np.random.rand()\n",
    "    \n",
    "    # Find index\n",
    "    i = 0\n",
    "    p_sum = 0.0\n",
    "    while p_sum < q:\n",
    "        p_sum += probs[i]\n",
    "        i += 1\n",
    "    return i - 1\n",
    "def gillespie_draw(propensities):\n",
    "#     print(\"propensities=\",propensities)\n",
    "    # 2) Sum propensities\n",
    "    propensity_sum = propensities.sum()\n",
    "    \n",
    "    # 3) Compute next time\n",
    "    dt = np.random.exponential(1.0 / propensity_sum)\n",
    "    \n",
    "    # 4) Compute reaction probabilites from propensities\n",
    "    reaction_probabilites = propensities / propensity_sum\n",
    "    \n",
    "    # 5) Draw a random reaction\n",
    "    chosen_reaction = sample_discrete(reaction_probabilites)\n",
    "    \n",
    "    return chosen_reaction, dt"
   ]
  },
  {
   "cell_type": "code",
   "execution_count": 188,
   "id": "093580dc-5f32-46bb-b5a0-9e0127d8207b",
   "metadata": {},
   "outputs": [
    {
     "name": "stderr",
     "output_type": "stream",
     "text": [
      "<ipython-input-186-e6a880ffe5a2>:19: RuntimeWarning: divide by zero encountered in double_scalars\n",
      "  dt = np.random.exponential(1.0 / propensity_sum)\n",
      "<ipython-input-186-e6a880ffe5a2>:22: RuntimeWarning: invalid value encountered in true_divide\n",
      "  reaction_probabilites = propensities / propensity_sum\n"
     ]
    }
   ],
   "source": [
    "CS_obj = Cell_Stack()\n",
    "\n",
    "time_points = np.linspace(0, 200, 2000)\n",
    "# pop_out = np.empty((len(time_points), CS_obj.grand_reaction_array.shape[1]), dtype = int)\n",
    "\n",
    "# Initialise and perform simulation\n",
    "index = 0\n",
    "time_index = 1\n",
    "time = time_points[0]\n",
    "# variables = CS_obj.get_variables()\n",
    "# pop_out[0,:] = variables\n",
    "propensities = np.zeros(CS_obj.grand_reaction_array.shape[1])\n",
    "while index < len(time_points):\n",
    "    while time < time_points[time_index]:\n",
    "        # Draw reaction and time step\n",
    "#         print(CS_obj.get_stack_propensities())\n",
    "        reaction, dt = gillespie_draw(CS_obj.get_stack_propensities())\n",
    "#         print(reaction)\n",
    "        # Update variables\n",
    "#         variables_previous = CS_obj.get_variables()\n",
    "#         print(CS_obj.grand_reaction_array[reaction, :])\n",
    "        CS_obj.update_variables(CS_obj.grand_reaction_array[reaction, :])\n",
    "        \n",
    "        \n",
    "        \n",
    "        # Increment time\n",
    "        time += dt\n",
    "        \n",
    "\n",
    "    # Update index\n",
    "    index = np.searchsorted(time_points > time, True)\n",
    "\n",
    "    # Update the variables\n",
    "    CS_obj.save_data(\"SimData\\Trial1\\data.txt\", time)\n",
    "#     pop_out[time_index:min(index, len(time_points))] = variables_previous\n",
    "\n",
    "    # Increment index\n",
    "    time_index = index\n",
    "    \n",
    "    CS_obj.check_split()\n",
    "    CS_obj.update_reaction_array()\n",
    "#     pop_out = np.concatenate((pop_out, np.zeros([np.shape(pop_out)[0], np.shape(CS_obj.get_variables())[0]-np.shape(pop_out)[1]])), axis = 1)\n",
    "    "
   ]
  },
  {
   "cell_type": "code",
   "execution_count": 194,
   "id": "7c6b346f-aaf7-4a5a-bfc3-32e5f02cc58f",
   "metadata": {},
   "outputs": [
    {
     "data": {
      "image/png": "[encoded data removed]",
      "text/plain": [
       "<Figure size 50x1000 with 1 Axes>"
      ]
     },
     "metadata": {
      "needs_background": "light"
     },
     "output_type": "display_data"
    }
   ],
   "source": [
    "fig = plt.figure(figsize = (0.5,10))\n",
    "ax = plt.gca()\n",
    "fig.set_dpi(100)\n",
    "ax.set_xlim(-0.5,1.5)\n",
    "ax.set_ylim(-1,40)\n",
    "\n",
    "with open(\"SimData\\Trial1\\data.txt\", \"r\") as f:\n",
    "    text_raw = f.read()    \n",
    "text_split_raw = text_raw.split(\"\\n\")\n",
    "time_axis = np.array([])\n",
    "\n",
    "cell_Boxes = {\"0\" : FancyBboxPatch((0,0), 1, 50/100, boxstyle = 'round', facecolor = [1,1,1], edgecolor = [0,0,0], animated = True, mutation_scale = 0)}\n",
    "\n",
    "def anim_init():\n",
    "    ax.add_patch(cell_Boxes[\"0\"])\n",
    "\n",
    "def anim_update(frame_number):\n",
    "    temp_curr = text_split_raw[frame_number].split(\"/\")[1:]\n",
    "    height_total = 0\n",
    "    for cell_curr in temp_curr:\n",
    "        \n",
    "        id_curr = cell_curr.split(\")\")[0][1:]\n",
    "#         print(id_curr)\n",
    "        cell_volume = cell_curr.split(\"[\")[1].split(\",\")[0]\n",
    "        height_new = float(cell_volume)/100\n",
    "        \n",
    "        if id_curr in cell_Boxes.keys():\n",
    "#             print(\"updated old cell\")\n",
    "            cell_Boxes[id_curr].set_y(height_total)\n",
    "            cell_Boxes[id_curr].set_height(height_new*0.95)\n",
    "        elif id_curr in [temp_itr + '0' for temp_itr in cell_Boxes.keys()]:\n",
    "#             print(\"updated old cell plus new name\")\n",
    "            cell_Boxes[id_curr[:-1]].remove()\n",
    "            cell_Boxes[id_curr] = cell_Boxes.pop(id_curr[:-1])\n",
    "            cell_Boxes[id_curr].set_y(height_total)\n",
    "            cell_Boxes[id_curr].set_height(height_new*0.95)\n",
    "            ax.add_patch(cell_Boxes[id_curr])\n",
    "        else:\n",
    "#             print(\"added new cell\")\n",
    "            cell_Boxes[id_curr] = FancyBboxPatch((0,height_total), 1, height_new*0.95, boxstyle = 'round', facecolor = [1,1,1], edgecolor = [0,0,0], animated = True, mutation_scale = 0)\n",
    "            ax.add_patch(cell_Boxes[id_curr])\n",
    "        \n",
    "        height_total += height_new\n",
    "    return cell_Boxes\n",
    "animation = FuncAnimation(fig, anim_update, frames = range(0,len(text_split_raw)), init_func = anim_init, interval = 100)\n",
    "animation.save('SimData/Trial1/animation1.mp4', fps=30, \n",
    "          extra_args=['-vcodec', 'h264', \n",
    "                      '-pix_fmt', 'yuv420p'])"
   ]
  },
  {
   "cell_type": "code",
   "execution_count": 169,
   "id": "8e65bd27-c01c-42f5-8149-37a69bce2f31",
   "metadata": {},
   "outputs": [
    {
     "data": {
      "text/plain": [
       "['1.056046462781489/(0)[97, 453]',\n",
       " '2.112587956497381/(0)[138, 412]',\n",
       " '3.164339606826823/(00)[77.0, 261.0]/(01)[96.0, 116.0]',\n",
       " '4.220229120265125/(00)[105.0, 233.0]/(01)[104.0, 108.0]',\n",
       " '5.300451842030021/(000)[46.0, 59.0]/(001)[79.0, 154.0]/(010)[52.0, 51.0]/(011)[65.0, 44.0]',\n",
       " '6.318334005847849/(000)[50.0, 55.0]/(001)[97.0, 136.0]/(010)[56.0, 47.0]/(011)[67.0, 42.0]',\n",
       " '7.400170303447702/(000)[58.0, 47.0]/(001)[109.0, 124.0]/(010)[66.0, 37.0]/(011)[73.0, 36.0]',\n",
       " '8.441987946562175/(000)[65.0, 40.0]/(0010)[55.0, 52.0]/(0011)[73.0, 53.0]/(010)[68.0, 35.0]/(011)[75.0, 34.0]',\n",
       " '9.485693029336545/(000)[70.0, 35.0]/(0010)[61.0, 46.0]/(0011)[77.0, 49.0]/(010)[71.0, 32.0]/(011)[77.0, 32.0]',\n",
       " '10.59053421466965/(000)[73.0, 32.0]/(0010)[66.0, 41.0]/(0011)[81.0, 45.0]/(010)[74.0, 29.0]/(011)[80.0, 29.0]',\n",
       " '11.623500259387594/(000)[75.0, 30.0]/(0010)[68.0, 39.0]/(0011)[87.0, 39.0]/(010)[79.0, 24.0]/(011)[83.0, 26.0]',\n",
       " '12.66704027138693/(000)[77.0, 28.0]/(0010)[71.0, 36.0]/(0011)[90.0, 36.0]/(010)[81.0, 22.0]/(011)[86.0, 23.0]',\n",
       " '13.755893870890931/(000)[80.0, 25.0]/(0010)[79.0, 28.0]/(0011)[94.0, 32.0]/(010)[85.0, 18.0]/(011)[89.0, 20.0]',\n",
       " '14.888318935232114/(000)[87.0, 18.0]/(0010)[83.0, 24.0]/(0011)[96.0, 30.0]/(010)[87.0, 16.0]/(011)[91.0, 18.0]',\n",
       " '15.831262000960802/(000)[91.0, 14.0]/(0010)[86.0, 21.0]/(0011)[97.0, 29.0]/(010)[88.0, 15.0]/(011)[94.0, 15.0]',\n",
       " '16.875749187431122/(000)[91.0, 14.0]/(0010)[89.0, 18.0]/(0011)[103.0, 23.0]/(010)[90.0, 13.0]/(011)[94.0, 15.0]',\n",
       " '18.15676555855376/(000)[95.0, 10.0]/(0010)[92.0, 15.0]/(00110)[29.0, 11.0]/(00111)[78.0, 8.0]/(010)[92.0, 11.0]/(011)[94.0, 15.0]',\n",
       " '18.992375523510695/(000)[97.0, 8.0]/(0010)[92.0, 15.0]/(00110)[29.0, 11.0]/(00111)[79.0, 7.0]/(010)[92.0, 11.0]/(011)[94.0, 15.0]',\n",
       " '20.049269371388373/(000)[100.0, 5.0]/(0010)[93.0, 14.0]/(00110)[29.0, 11.0]/(00111)[80.0, 6.0]/(010)[93.0, 10.0]/(011)[98.0, 11.0]',\n",
       " '1.5013211861961508/(0)[56, 794]',\n",
       " '2.1525316969594073/(0)[63, 787]',\n",
       " '3.1711695720417357/(0)[76, 774]',\n",
       " '4.22941370511242/(0)[86, 764]',\n",
       " '5.348010422856803/(0)[96, 754]',\n",
       " '6.504276690580702/(0)[106, 744]',\n",
       " '7.387730671952229/(00)[68.0, 392.0]/(01)[43.0, 347.0]',\n",
       " '8.517788942317061/(00)[70.0, 390.0]/(01)[43.0, 347.0]',\n",
       " '9.761690810119573/(00)[73.0, 387.0]/(01)[47.0, 343.0]',\n",
       " '10.544677871028306/(00)[73.0, 387.0]/(01)[49.0, 341.0]',\n",
       " '11.591011794449097/(00)[76.0, 384.0]/(01)[53.0, 337.0]',\n",
       " '12.661881489061106/(00)[80.0, 380.0]/(01)[53.0, 337.0]',\n",
       " '14.140698079651488/(00)[84.0, 376.0]/(01)[57.0, 333.0]',\n",
       " '14.869336905868048/(00)[84.0, 376.0]/(01)[61.0, 329.0]',\n",
       " '16.575435420207384/(00)[91.0, 369.0]/(01)[64.0, 326.0]',\n",
       " '17.00068284277183/(00)[92.0, 368.0]/(01)[67.0, 323.0]',\n",
       " '18.33233694037752/(00)[95.0, 365.0]/(01)[70.0, 320.0]',\n",
       " '19.01020784345853/(00)[98.0, 362.0]/(01)[71.0, 319.0]',\n",
       " '20.03048975089665/(00)[101.0, 359.0]/(01)[75.0, 315.0]',\n",
       " '1.0959969999999566/(0)[105, 445]',\n",
       " '2.1149447053744987/(00)[98.0, 189.0]/(01)[52.0, 211.0]',\n",
       " '3.165103443437707/(00)[114.0, 173.0]/(01)[79.0, 184.0]',\n",
       " '4.241151978958023/(000)[76.0, 45.0]/(001)[55.0, 111.0]/(01)[97.0, 166.0]',\n",
       " '5.2662723906866615/(000)[81.0, 40.0]/(001)[62.0, 104.0]/(01)[114.0, 149.0]',\n",
       " '6.317447770952701/(000)[86.0, 35.0]/(001)[72.0, 94.0]/(010)[60.0, 72.0]/(011)[82.0, 49.0]',\n",
       " '7.426931218013355/(000)[89.0, 32.0]/(001)[81.0, 85.0]/(010)[73.0, 59.0]/(011)[85.0, 46.0]',\n",
       " '8.424518800845135/(000)[92.0, 29.0]/(001)[90.0, 76.0]/(010)[75.0, 57.0]/(011)[90.0, 41.0]',\n",
       " '9.531100753813979/(000)[93.0, 28.0]/(001)[99.0, 67.0]/(010)[80.0, 52.0]/(011)[94.0, 37.0]',\n",
       " '10.614054996288417/(000)[95.0, 26.0]/(001)[106.0, 60.0]/(010)[85.0, 47.0]/(011)[97.0, 34.0]',\n",
       " '11.606212794817715/(000)[99.0, 22.0]/(0010)[64.0, 26.0]/(0011)[47.0, 29.0]/(010)[89.0, 43.0]/(011)[98.0, 33.0]',\n",
       " '12.666625468122964/(000)[103.0, 18.0]/(0010)[65.0, 25.0]/(0011)[51.0, 25.0]/(010)[96.0, 36.0]/(011)[102.0, 29.0]',\n",
       " '13.70831821028467/(0000)[78.0, 9.0]/(0001)[27.0, 7.0]/(0010)[69.0, 21.0]/(0011)[53.0, 23.0]/(010)[98.0, 34.0]/(0110)[54.0, 11.0]/(0111)[52.0, 14.0]',\n",
       " '14.993452997705752/(0000)[78.0, 9.0]/(0001)[28.0, 6.0]/(0010)[71.0, 19.0]/(0011)[55.0, 21.0]/(010)[101.0, 31.0]/(0110)[57.0, 8.0]/(0111)[53.0, 13.0]',\n",
       " '15.794150981757607/(0000)[78.0, 9.0]/(0001)[29.0, 5.0]/(0010)[75.0, 15.0]/(0011)[58.0, 18.0]/(0100)[57.0, 16.0]/(0101)[51.0, 8.0]/(0110)[58.0, 7.0]/(0111)[56.0, 10.0]',\n",
       " '16.870694089381857/(0000)[81.0, 6.0]/(0001)[29.0, 5.0]/(0010)[75.0, 15.0]/(0011)[60.0, 16.0]/(0100)[58.0, 15.0]/(0101)[52.0, 7.0]/(0110)[59.0, 6.0]/(0111)[57.0, 9.0]',\n",
       " '18.083854524317573/(0000)[82.0, 5.0]/(0001)[29.0, 5.0]/(0010)[78.0, 12.0]/(0011)[60.0, 16.0]/(0100)[59.0, 14.0]/(0101)[53.0, 6.0]/(0110)[60.0, 5.0]/(0111)[57.0, 9.0]',\n",
       " '19.04184443993161/(0000)[82.0, 5.0]/(0001)[30.0, 4.0]/(0010)[80.0, 10.0]/(0011)[61.0, 15.0]/(0100)[60.0, 13.0]/(0101)[54.0, 5.0]/(0110)[62.0, 3.0]/(0111)[60.0, 6.0]',\n",
       " '20.030218248903324/(0000)[82.0, 5.0]/(0001)[30.0, 4.0]/(0010)[82.0, 8.0]/(0011)[62.0, 14.0]/(0100)[61.0, 12.0]/(0101)[55.0, 4.0]/(0110)[62.0, 3.0]/(0111)[61.0, 5.0]',\n",
       " '1.117872662390301/(0)[115, 435]',\n",
       " '2.132704822128468/(00)[87.0, 267.0]/(01)[72.0, 124.0]',\n",
       " '3.170297314480624/(00)[126.0, 228.0]/(01)[81.0, 115.0]',\n",
       " '4.220489422459713/(000)[90.0, 108.0]/(001)[55.0, 101.0]/(01)[87.0, 109.0]',\n",
       " '5.266704815791221/(000)[101.0, 97.0]/(001)[59.0, 97.0]/(01)[100.0, 96.0]',\n",
       " '6.350733121302495/(0000)[42.0, 24.0]/(0001)[71.0, 61.0]/(001)[68.0, 88.0]/(01)[112.0, 84.0]',\n",
       " '7.481117517052776/(0000)[47.0, 19.0]/(0001)[73.0, 59.0]/(001)[81.0, 75.0]/(010)[76.0, 44.0]/(011)[44.0, 32.0]',\n",
       " '8.427378075632689/(0000)[49.0, 17.0]/(0001)[78.0, 54.0]/(001)[88.0, 68.0]/(010)[77.0, 43.0]/(011)[49.0, 27.0]',\n",
       " '9.524840983011709/(0000)[50.0, 16.0]/(0001)[82.0, 50.0]/(001)[92.0, 64.0]/(010)[82.0, 38.0]/(011)[52.0, 24.0]',\n",
       " '10.64221868788769/(0000)[51.0, 15.0]/(0001)[83.0, 49.0]/(001)[100.0, 56.0]/(010)[86.0, 34.0]/(011)[54.0, 22.0]',\n",
       " '11.61583874420333/(0000)[52.0, 14.0]/(0001)[85.0, 47.0]/(001)[106.0, 50.0]/(010)[86.0, 34.0]/(011)[57.0, 19.0]',\n",
       " '12.655060919966475/(0000)[53.0, 13.0]/(0001)[91.0, 41.0]/(0010)[61.0, 22.0]/(0011)[48.0, 25.0]/(010)[89.0, 31.0]/(011)[58.0, 18.0]',\n",
       " '13.718950383683717/(0000)[54.0, 12.0]/(0001)[96.0, 36.0]/(0010)[65.0, 18.0]/(0011)[50.0, 23.0]/(010)[92.0, 28.0]/(011)[60.0, 16.0]',\n",
       " '14.86216590916241/(0000)[55.0, 11.0]/(0001)[100.0, 32.0]/(0010)[69.0, 14.0]/(0011)[55.0, 18.0]/(010)[98.0, 22.0]/(011)[63.0, 13.0]',\n",
       " '15.897858156830177/(0000)[55.0, 11.0]/(0001)[103.0, 29.0]/(0010)[70.0, 13.0]/(0011)[55.0, 18.0]/(010)[101.0, 19.0]/(011)[64.0, 12.0]',\n",
       " '17.0159151827503/(0000)[56.0, 10.0]/(00010)[29.0, 7.0]/(00011)[75.0, 21.0]/(0010)[70.0, 13.0]/(0011)[57.0, 16.0]/(0100)[26.0, 10.0]/(0101)[76.0, 8.0]/(011)[64.0, 12.0]',\n",
       " '18.018084573870528/(0000)[56.0, 10.0]/(00010)[29.0, 7.0]/(00011)[75.0, 21.0]/(0010)[71.0, 12.0]/(0011)[57.0, 16.0]/(0100)[26.0, 10.0]/(0101)[76.0, 8.0]/(011)[65.0, 11.0]',\n",
       " '19.003129239967862/(0000)[57.0, 9.0]/(00010)[30.0, 6.0]/(00011)[78.0, 18.0]/(0010)[72.0, 11.0]/(0011)[58.0, 15.0]/(0100)[26.0, 10.0]/(0101)[76.0, 8.0]/(011)[66.0, 10.0]',\n",
       " '20.059502382519735/(0000)[58.0, 8.0]/(00010)[30.0, 6.0]/(00011)[80.0, 16.0]/(0010)[73.0, 10.0]/(0011)[58.0, 15.0]/(0100)[27.0, 9.0]/(0101)[77.0, 7.0]/(011)[68.0, 8.0]',\n",
       " '']"
      ]
     },
     "execution_count": 169,
     "metadata": {},
     "output_type": "execute_result"
    }
   ],
   "source": [
    "text_split_raw"
   ]
  },
  {
   "cell_type": "code",
   "execution_count": 66,
   "id": "cbd83488-2171-4387-abc2-dc693c104403",
   "metadata": {},
   "outputs": [
    {
     "data": {
      "text/plain": [
       "'77.0'"
      ]
     },
     "execution_count": 66,
     "metadata": {},
     "output_type": "execute_result"
    }
   ],
   "source": [
    "text_split_raw[2].split(\"/\")[1:][0].split(\"[\")[1].split(\",\")[0]"
   ]
  },
  {
   "cell_type": "code",
   "execution_count": 58,
   "id": "3fcd87e7-2659-45ff-a7c8-cddb72fe68eb",
   "metadata": {},
   "outputs": [],
   "source": [
    "cell_Boxes = {\"00\" : FancyBboxPatch((0,0), 1, 50/100, boxstyle = 'round', facecolor = [0,0,0], edgecolor = [0,0,0], animated = True)}"
   ]
  },
  {
   "cell_type": "code",
   "execution_count": 59,
   "id": "70141cbb-e715-4ca0-996f-f287ff7070d0",
   "metadata": {},
   "outputs": [
    {
     "name": "stdout",
     "output_type": "stream",
     "text": [
      "1\n"
     ]
    }
   ],
   "source": [
    "if id_curr in cell_Boxes.keys():\n",
    "    print(1)"
   ]
  },
  {
   "cell_type": "code",
   "execution_count": 93,
   "id": "d136a501-400b-4727-85fc-bc67abd40fc7",
   "metadata": {},
   "outputs": [
    {
     "ename": "TypeError",
     "evalue": "can only concatenate list (not \"str\") to list",
     "output_type": "error",
     "traceback": [
      "\u001b[1;31m---------------------------------------------------------------------------\u001b[0m",
      "\u001b[1;31mTypeError\u001b[0m                                 Traceback (most recent call last)",
      "\u001b[1;32m<ipython-input-93-0b87329b71b7>\u001b[0m in \u001b[0;36m<module>\u001b[1;34m\u001b[0m\n\u001b[1;32m----> 1\u001b[1;33m \u001b[0mlist\u001b[0m\u001b[1;33m(\u001b[0m\u001b[0mcell_Boxes\u001b[0m\u001b[1;33m.\u001b[0m\u001b[0mkeys\u001b[0m\u001b[1;33m(\u001b[0m\u001b[1;33m)\u001b[0m\u001b[1;33m)\u001b[0m \u001b[1;33m+\u001b[0m \u001b[1;34m'0'\u001b[0m\u001b[1;33m\u001b[0m\u001b[1;33m\u001b[0m\u001b[0m\n\u001b[0m",
      "\u001b[1;31mTypeError\u001b[0m: can only concatenate list (not \"str\") to list"
     ]
    }
   ],
   "source": [
    "list(cell_Boxes.keys()) + '0'"
   ]
  },
  {
   "cell_type": "code",
   "execution_count": 153,
   "id": "03e37a9b-17ac-418c-9e2a-665f6bada78a",
   "metadata": {},
   "outputs": [
    {
     "data": {
      "text/plain": [
       "['0000', '0100', '0110', '00100', '001100', '001110', '000', '010']"
      ]
     },
     "execution_count": 153,
     "metadata": {},
     "output_type": "execute_result"
    }
   ],
   "source": [
    "[temp_itr + '0' for temp_itr in cell_Boxes.keys()]"
   ]
  },
  {
   "cell_type": "code",
   "execution_count": null,
   "id": "1f78e14e-045e-48fb-9959-5afe6bdc314d",
   "metadata": {},
   "outputs": [],
   "source": []
  },
  {
   "cell_type": "code",
   "execution_count": null,
   "id": "204e4401-6e1e-4412-ae58-6c3860467a81",
   "metadata": {},
   "outputs": [],
   "source": []
  },
  {
   "cell_type": "code",
   "execution_count": 159,
   "id": "e83f800c-9d9a-4958-a4be-821c394d8a91",
   "metadata": {},
   "outputs": [],
   "source": [
    "out_split = list(out.split(\"\\n\"))"
   ]
  },
  {
   "cell_type": "code",
   "execution_count": 160,
   "id": "6de2e2cf-a408-47eb-8da1-c766cfef9025",
   "metadata": {},
   "outputs": [
    {
     "data": {
      "text/plain": [
       "'/1.065330467786004,0,[101, 449]/'"
      ]
     },
     "execution_count": 160,
     "metadata": {},
     "output_type": "execute_result"
    }
   ],
   "source": [
    "out_split[0]"
   ]
  },
  {
   "cell_type": "code",
   "execution_count": 57,
   "id": "7ee01892-d8dc-48da-b7d8-01bc43841d5f",
   "metadata": {},
   "outputs": [
    {
     "data": {
      "text/plain": [
       "['0000', '0001', '001', '0100', '0101', '0110', '01110', '01111']"
      ]
     },
     "execution_count": 57,
     "metadata": {},
     "output_type": "execute_result"
    }
   ],
   "source": [
    "[curr_cell.ID for curr_cell in CS_obj.all_cells]"
   ]
  },
  {
   "cell_type": "code",
   "execution_count": 928,
   "id": "60b5f66a-ef16-4c24-a14c-2c0e9311dd15",
   "metadata": {},
   "outputs": [
    {
     "data": {
      "text/plain": [
       "['0', '0']"
      ]
     },
     "execution_count": 928,
     "metadata": {},
     "output_type": "execute_result"
    }
   ],
   "source": [
    "'0' -> '00' + '01'"
   ]
  },
  {
   "cell_type": "code",
   "execution_count": 978,
   "id": "0a2e94bd-f6ce-4957-a5c8-a7409e471193",
   "metadata": {},
   "outputs": [
    {
     "data": {
      "text/plain": [
       "array([[ 50., 500.,   0.,   0.,   0.,   0.,   0.,   0.,   0.,   0.,   0.,\n",
       "          0.,   0.,   0.],\n",
       "       [109., 441.,   0.,   0.,   0.,   0.,   0.,   0.,   0.,   0.,   0.,\n",
       "          0.,   0.,   0.],\n",
       "       [ 94., 180.,  56., 220.,   0.,   0.,   0.,   0.,   0.,   0.,   0.,\n",
       "          0.,   0.,   0.],\n",
       "       [111., 163.,  82., 194.,   0.,   0.,   0.,   0.,   0.,   0.,   0.,\n",
       "          0.,   0.,   0.],\n",
       "       [ 80.,  62.,  43.,  89., 107., 169.,   0.,   0.,   0.,   0.,   0.,\n",
       "          0.,   0.,   0.],\n",
       "       [ 88.,  54.,  56.,  76.,  59.,  51.,  64., 102.,   0.,   0.,   0.,\n",
       "          0.,   0.,   0.],\n",
       "       [ 94.,  48.,  61.,  71.,  63.,  47.,  75.,  91.,   0.,   0.,   0.,\n",
       "          0.,   0.,   0.],\n",
       "       [ 98.,  44.,  72.,  60.,  66.,  44.,  84.,  82.,   0.,   0.,   0.,\n",
       "          0.,   0.,   0.],\n",
       "       [104.,  38.,  78.,  54.,  71.,  39.,  90.,  76.,   0.,   0.,   0.,\n",
       "          0.,   0.,   0.],\n",
       "       [ 45.,  12.,  64.,  21.,  84.,  48.,  75.,  35.,  95.,  71.,   0.,\n",
       "          0.,   0.,   0.],\n",
       "       [ 46.,  11.,  65.,  20.,  87.,  45.,  77.,  33., 109.,  57.,   0.,\n",
       "          0.,   0.,   0.],\n",
       "       [ 48.,   9.,  66.,  19.,  95.,  37.,  80.,  30.,  35.,  27.,  79.,\n",
       "         25.,   0.,   0.],\n",
       "       [ 49.,   8.,  67.,  18.,  97.,  35.,  82.,  28.,  36.,  26.,  81.,\n",
       "         23.,   0.,   0.],\n",
       "       [ 50.,   7.,  69.,  16., 102.,  30.,  82.,  28.,  39.,  23.,  84.,\n",
       "         20.,   0.,   0.],\n",
       "       [ 50.,   7.,  70.,  15.,  54.,  10.,  53.,  15.,  84.,  26.,  40.,\n",
       "         22.,  87.,  17.],\n",
       "       [ 50.,   7.,  72.,  13.,  54.,  10.,  53.,  15.,  87.,  23.,  42.,\n",
       "         20.,  87.,  17.],\n",
       "       [ 51.,   6.,  73.,  12.,  55.,   9.,  53.,  15.,  87.,  23.,  42.,\n",
       "         20.,  87.,  17.],\n",
       "       [ 51.,   6.,  74.,  11.,  55.,   9.,  53.,  15.,  87.,  23.,  44.,\n",
       "         18.,  89.,  15.],\n",
       "       [ 51.,   6.,  75.,  10.,  55.,   9.,  53.,  15.,  88.,  22.,  47.,\n",
       "         15.,  92.,  12.],\n",
       "       [ 51.,   6.,  76.,   9.,  56.,   8.,  55.,  13.,  91.,  19.,  49.,\n",
       "         13.,  94.,  10.]])"
      ]
     },
     "execution_count": 978,
     "metadata": {},
     "output_type": "execute_result"
    }
   ],
   "source": [
    "pop_out"
   ]
  },
  {
   "cell_type": "code",
   "execution_count": 795,
   "id": "3949699b-ffb4-4cbb-83b5-c9f97d15deb8",
   "metadata": {},
   "outputs": [
    {
     "name": "stdout",
     "output_type": "stream",
     "text": [
      "[[1. 1. 1.]]\n"
     ]
    }
   ],
   "source": [
    "a = np.ones([1,3])\n",
    "print(a)"
   ]
  },
  {
   "cell_type": "code",
   "execution_count": 960,
   "id": "9a40a400-1525-4ef7-97b1-7f1881d8c3b6",
   "metadata": {},
   "outputs": [
    {
     "data": {
      "text/plain": [
       "(1, 9, 2)"
      ]
     },
     "execution_count": 960,
     "metadata": {},
     "output_type": "execute_result"
    }
   ],
   "source": [
    "ind = 1\n",
    "a = (1,2)\n",
    "a[:ind] + (9,) + a[ind:]"
   ]
  },
  {
   "cell_type": "code",
   "execution_count": 801,
   "id": "8c6f3f86-14bd-401d-b461-f0a6214c57de",
   "metadata": {},
   "outputs": [
    {
     "data": {
      "text/plain": [
       "array([[ 50, 500],\n",
       "       [ 99, 451],\n",
       "       [144, 406],\n",
       "       [185, 365],\n",
       "       [225, 325],\n",
       "       [253, 297],\n",
       "       [291, 259],\n",
       "       [316, 234],\n",
       "       [342, 208],\n",
       "       [360, 190]])"
      ]
     },
     "execution_count": 801,
     "metadata": {},
     "output_type": "execute_result"
    }
   ],
   "source": [
    "pop_out"
   ]
  },
  {
   "cell_type": "code",
   "execution_count": 806,
   "id": "1d46835b-ed62-4f45-9041-a1c44785e9a4",
   "metadata": {},
   "outputs": [
    {
     "data": {
      "text/plain": [
       "(10,)"
      ]
     },
     "execution_count": 806,
     "metadata": {},
     "output_type": "execute_result"
    }
   ],
   "source": [
    "CS_obj.check_split()\n",
    "np.shape(CS_obj.get_variables())"
   ]
  },
  {
   "cell_type": "code",
   "execution_count": 816,
   "id": "d8d11307-2969-4d90-8ffc-c4ecfda87959",
   "metadata": {},
   "outputs": [
    {
     "data": {
      "text/plain": [
       "array([[ 50., 500.,   0.,   0.,   0.,   0.,   0.,   0.,   0.,   0.],\n",
       "       [ 99., 451.,   0.,   0.,   0.,   0.,   0.,   0.,   0.,   0.],\n",
       "       [144., 406.,   0.,   0.,   0.,   0.,   0.,   0.,   0.,   0.],\n",
       "       [185., 365.,   0.,   0.,   0.,   0.,   0.,   0.,   0.,   0.],\n",
       "       [225., 325.,   0.,   0.,   0.,   0.,   0.,   0.,   0.,   0.],\n",
       "       [253., 297.,   0.,   0.,   0.,   0.,   0.,   0.,   0.,   0.],\n",
       "       [291., 259.,   0.,   0.,   0.,   0.,   0.,   0.,   0.,   0.],\n",
       "       [316., 234.,   0.,   0.,   0.,   0.,   0.,   0.,   0.,   0.],\n",
       "       [342., 208.,   0.,   0.,   0.,   0.,   0.,   0.,   0.,   0.],\n",
       "       [360., 190.,   0.,   0.,   0.,   0.,   0.,   0.,   0.,   0.]])"
      ]
     },
     "execution_count": 816,
     "metadata": {},
     "output_type": "execute_result"
    }
   ],
   "source": [
    "np.concatenate((pop_out, np.zeros([np.shape(pop_out)[0], np.shape(CS_obj.get_variables())[0]-np.shape(pop_out)[1]])), axis = 1)"
   ]
  },
  {
   "cell_type": "code",
   "execution_count": 810,
   "id": "539b6ca4-1a06-41f3-91dc-df765840ceaa",
   "metadata": {},
   "outputs": [
    {
     "data": {
      "text/plain": [
       "10"
      ]
     },
     "execution_count": 810,
     "metadata": {},
     "output_type": "execute_result"
    }
   ],
   "source": [
    "np.shape(pop_out)[0]"
   ]
  },
  {
   "cell_type": "code",
   "execution_count": 812,
   "id": "a76bff81-7291-4383-bd71-55169a388212",
   "metadata": {},
   "outputs": [
    {
     "data": {
      "text/plain": [
       "10"
      ]
     },
     "execution_count": 812,
     "metadata": {},
     "output_type": "execute_result"
    }
   ],
   "source": [
    "np.shape(CS_obj.get_variables())[0]"
   ]
  },
  {
   "cell_type": "code",
   "execution_count": 881,
   "id": "719cb409-34cd-4962-b2f9-ead46896eb71",
   "metadata": {},
   "outputs": [],
   "source": [
    "a = str(1)"
   ]
  },
  {
   "cell_type": "code",
   "execution_count": 882,
   "id": "6f44894e-400c-4c4f-8d5c-7246fdd84e86",
   "metadata": {},
   "outputs": [
    {
     "name": "stdout",
     "output_type": "stream",
     "text": [
      "1\n"
     ]
    }
   ],
   "source": [
    "print(a)"
   ]
  },
  {
   "cell_type": "code",
   "execution_count": 2,
   "id": "ef4efe6e-7e8e-43b7-b207-0d923c90fe61",
   "metadata": {},
   "outputs": [
    {
     "data": {
      "text/plain": [
       "<_io.TextIOWrapper name='SimData/temp.text' mode='w+' encoding='cp1252'>"
      ]
     },
     "execution_count": 2,
     "metadata": {},
     "output_type": "execute_result"
    }
   ],
   "source": []
  },
  {
   "cell_type": "code",
   "execution_count": 5,
   "id": "86578e5e-fa60-400e-99ea-045616a8764a",
   "metadata": {},
   "outputs": [],
   "source": []
  },
  {
   "cell_type": "code",
   "execution_count": 17,
   "id": "0bfa6cc7-fbe5-42d8-897a-86e7f94faac0",
   "metadata": {},
   "outputs": [
    {
     "data": {
      "text/plain": [
       "<function TextIOWrapper.close()>"
      ]
     },
     "execution_count": 17,
     "metadata": {},
     "output_type": "execute_result"
    }
   ],
   "source": [
    "f.close"
   ]
  },
  {
   "cell_type": "code",
   "execution_count": 18,
   "id": "97b6a6e2-55c3-4524-b5c6-b9703e600955",
   "metadata": {},
   "outputs": [],
   "source": [
    "CS_obj = Cell_Stack()"
   ]
  },
  {
   "cell_type": "code",
   "execution_count": 19,
   "id": "e06aaea5-8923-4392-997c-6b765ad18127",
   "metadata": {},
   "outputs": [],
   "source": [
    "time = 1.234"
   ]
  },
  {
   "cell_type": "code",
   "execution_count": 36,
   "id": "b73f0387-bcea-4e76-9ce4-cb5d074bb31f",
   "metadata": {},
   "outputs": [
    {
     "data": {
      "text/plain": [
       "[96.0,\n",
       " 25.0,\n",
       " 67.0,\n",
       " 9.0,\n",
       " 75.0,\n",
       " 16.0,\n",
       " 36.0,\n",
       " 11.0,\n",
       " 58.0,\n",
       " 12.0,\n",
       " 52.0,\n",
       " 7.0,\n",
       " 76.0,\n",
       " 10.0]"
      ]
     },
     "execution_count": 36,
     "metadata": {},
     "output_type": "execute_result"
    }
   ],
   "source": [
    "CS_obj.get_variables()"
   ]
  },
  {
   "cell_type": "code",
   "execution_count": 51,
   "id": "1c648534-6a2d-4137-a084-b96412b2d814",
   "metadata": {},
   "outputs": [],
   "source": [
    "ret_str = [time]\n",
    "for ind in range(len(CS_obj.all_cells)):\n",
    "    ret_str += [[CS_obj.all_cells[ind].ID], [CS_obj.all_cells[ind].get_variables()]]"
   ]
  },
  {
   "cell_type": "code",
   "execution_count": 24,
   "id": "91abdfa7-7032-4abc-956b-f063b28ef49e",
   "metadata": {},
   "outputs": [
    {
     "data": {
      "text/plain": [
       "'[1.234, 50, 500]'"
      ]
     },
     "execution_count": 24,
     "metadata": {},
     "output_type": "execute_result"
    }
   ],
   "source": [
    "str([time] + CS_obj.get_variables())"
   ]
  },
  {
   "cell_type": "code",
   "execution_count": 41,
   "id": "0b3f9d17-12ec-45ce-936d-c09e3ac762a7",
   "metadata": {},
   "outputs": [
    {
     "data": {
      "text/plain": [
       "[67.0, 9.0]"
      ]
     },
     "execution_count": 41,
     "metadata": {},
     "output_type": "execute_result"
    }
   ],
   "source": [
    "CS_obj.all_cells[1].get_variables()"
   ]
  },
  {
   "cell_type": "code",
   "execution_count": 43,
   "id": "c880ead4-c159-4379-9020-5afe83496e12",
   "metadata": {},
   "outputs": [],
   "source": [
    "ret_str = [time]"
   ]
  },
  {
   "cell_type": "code",
   "execution_count": 45,
   "id": "1d7a206d-087a-41f3-8af3-d86a35e7ea17",
   "metadata": {},
   "outputs": [
    {
     "data": {
      "text/plain": [
       "[20.04253601765396, 1]"
      ]
     },
     "execution_count": 45,
     "metadata": {},
     "output_type": "execute_result"
    }
   ],
   "source": [
    "ret_str + ["
   ]
  },
  {
   "cell_type": "code",
   "execution_count": 46,
   "id": "dbfdf699-ae80-46c1-91d8-f6f1dde3dfaa",
   "metadata": {},
   "outputs": [
    {
     "data": {
      "text/plain": [
       "['000']"
      ]
     },
     "execution_count": 46,
     "metadata": {},
     "output_type": "execute_result"
    }
   ],
   "source": [
    "[CS_obj.all_cells[ind].ID]"
   ]
  },
  {
   "cell_type": "code",
   "execution_count": 47,
   "id": "17417f30-3df6-467c-b60f-d25364d3356f",
   "metadata": {},
   "outputs": [
    {
     "data": {
      "text/plain": [
       "[[96.0, 25.0]]"
      ]
     },
     "execution_count": 47,
     "metadata": {},
     "output_type": "execute_result"
    }
   ],
   "source": [
    "[CS_obj.all_cells[ind].get_variables()]"
   ]
  },
  {
   "cell_type": "code",
   "execution_count": 52,
   "id": "8c65a6b6-50d4-4cf4-9105-990d5d5f6ec3",
   "metadata": {},
   "outputs": [
    {
     "data": {
      "text/plain": [
       "[20.04253601765396,\n",
       " ['000'],\n",
       " [[96.0, 25.0]],\n",
       " ['001'],\n",
       " [[67.0, 9.0]],\n",
       " ['0100'],\n",
       " [[75.0, 16.0]],\n",
       " ['0101'],\n",
       " [[36.0, 11.0]],\n",
       " ['01100'],\n",
       " [[58.0, 12.0]],\n",
       " ['01101'],\n",
       " [[52.0, 7.0]],\n",
       " ['0111'],\n",
       " [[76.0, 10.0]]]"
      ]
     },
     "execution_count": 52,
     "metadata": {},
     "output_type": "execute_result"
    }
   ],
   "source": [
    "ret_str"
   ]
  },
  {
   "cell_type": "code",
   "execution_count": null,
   "id": "498c68fc-7613-4c92-af9b-3503c8f62075",
   "metadata": {},
   "outputs": [],
   "source": []
  }
 ],
 "metadata": {
  "kernelspec": {
   "display_name": "Python 3",
   "language": "python",
   "name": "python3"
  },
  "language_info": {
   "codemirror_mode": {
    "name": "ipython",
    "version": 3
   },
   "file_extension": ".py",
   "mimetype": "text/x-python",
   "name": "python",
   "nbconvert_exporter": "python",
   "pygments_lexer": "ipython3",
   "version": "3.8.8"
  }
 },
 "nbformat": 4,
 "nbformat_minor": 5
}
